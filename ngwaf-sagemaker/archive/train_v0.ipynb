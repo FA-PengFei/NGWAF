{
 "cells": [
  {
   "cell_type": "code",
   "execution_count": 1,
   "id": "7594dddb",
   "metadata": {},
   "outputs": [],
   "source": [
    "import sagemaker\n",
    "sess = sagemaker.Session()\n",
    "role = sagemaker.get_execution_role()"
   ]
  },
  {
   "cell_type": "code",
   "execution_count": 2,
   "id": "cf820b0a",
   "metadata": {},
   "outputs": [
    {
     "name": "stderr",
     "output_type": "stream",
     "text": [
      "/home/ec2-user/anaconda3/envs/tensorflow2_p36/lib/python3.6/site-packages/boto3/compat.py:88: PythonDeprecationWarning: Boto3 will no longer support Python 3.6 starting May 30, 2022. To continue receiving service updates, bug fixes, and security updates please upgrade to Python 3.7 or later. More information can be found here: https://aws.amazon.com/blogs/developer/python-support-policy-updates-for-aws-sdks-and-tools/\n",
      "  warnings.warn(warning, PythonDeprecationWarning)\n"
     ]
    }
   ],
   "source": [
    "import boto3\n",
    "s3_session = boto3.client(\"s3\")"
   ]
  },
  {
   "cell_type": "code",
   "execution_count": 3,
   "id": "8d09fd64",
   "metadata": {},
   "outputs": [],
   "source": [
    "BUCKET_NAME = \"s3://ngwaf-test-bucket-2022-06-13\"\n",
    "TRAINING_PATH = BUCKET_NAME + \"/_tmp_train\"\n",
    "MODEL_PATH = BUCKET_NAME + \"/model\""
   ]
  },
  {
   "cell_type": "code",
   "execution_count": 4,
   "id": "f1ec8b9b",
   "metadata": {
    "scrolled": true
   },
   "outputs": [
    {
     "name": "stdout",
     "output_type": "stream",
     "text": [
      "{'Key': 'model/', 'LastModified': datetime.datetime(2022, 6, 13, 7, 48, 22, tzinfo=tzlocal()), 'ETag': '\"d41d8cd98f00b204e9800998ecf8427e\"', 'Size': 0, 'StorageClass': 'STANDARD', 'Owner': {'DisplayName': 'elizabethlimsm', 'ID': 'd0e809991d227e7fe2ff6889487fa9b0c8eab7a965643e922aec7c16d6fb981b'}}\n",
      "\n",
      "{'Key': 'model/2022-06-13-23-13-06/model.tar.gz', 'LastModified': datetime.datetime(2022, 6, 13, 23, 45, 15, tzinfo=tzlocal()), 'ETag': '\"23890201322aa2e09c113dab05278f48\"', 'Size': 21414733, 'StorageClass': 'STANDARD', 'Owner': {'DisplayName': 'elizabethlimsm', 'ID': 'd0e809991d227e7fe2ff6889487fa9b0c8eab7a965643e922aec7c16d6fb981b'}}\n",
      "\n",
      "{'Key': 'model/2022-06-13-23-13-06/output.tar.gz', 'LastModified': datetime.datetime(2022, 6, 14, 0, 26, 31, tzinfo=tzlocal()), 'ETag': '\"7c5da5f7de713fcd1da5195c5ba798ac\"', 'Size': 150, 'StorageClass': 'STANDARD', 'Owner': {'DisplayName': 'elizabethlimsm', 'ID': 'd0e809991d227e7fe2ff6889487fa9b0c8eab7a965643e922aec7c16d6fb981b'}}\n",
      "\n",
      "{'Key': 'model/2022-06-13-23-13-06/source/sourcedir.tar.gz', 'LastModified': datetime.datetime(2022, 6, 14, 0, 26, 31, tzinfo=tzlocal()), 'ETag': '\"2c4c99b1461af55f2b20ddf5f91d0651\"', 'Size': 3991, 'StorageClass': 'STANDARD', 'Owner': {'DisplayName': 'elizabethlimsm', 'ID': 'd0e809991d227e7fe2ff6889487fa9b0c8eab7a965643e922aec7c16d6fb981b'}}\n",
      "\n"
     ]
    }
   ],
   "source": [
    "# Find the latest model path to preload if desired\n",
    "model_objects = s3_session.list_objects(Bucket=BUCKET_NAME.replace(\"s3://\", \"\"), Prefix=\"model\")['Contents']\n",
    "\n",
    "for c in model_objects:\n",
    "    print(c)\n",
    "    print()"
   ]
  },
  {
   "cell_type": "code",
   "execution_count": null,
   "id": "96c5d3e9",
   "metadata": {},
   "outputs": [],
   "source": [
    "# You will have the move the selected pretrained model into _tmp_train"
   ]
  },
  {
   "cell_type": "code",
   "execution_count": 20,
   "id": "a2ddce93",
   "metadata": {},
   "outputs": [
    {
     "data": {
      "text/plain": [
       "'2022-06-14-02-08-34'"
      ]
     },
     "execution_count": 20,
     "metadata": {},
     "output_type": "execute_result"
    }
   ],
   "source": [
    "MODEL_FILE = 'model_v1_vect.py'\n",
    "FRAMEWORK_VERSION = \"2.8\"\n",
    "\n",
    "# To change for production\n",
    "INSTANCE_TYPE = \"local\"\n",
    "INSTANCE_COUNT = 1\n",
    "\n",
    "N_EPOCHS = 1\n",
    "\n",
    "# For logging\n",
    "import time\n",
    "VERSION_TIMESTAMP = time.strftime(\"%Y-%m-%d-%H-%M-%S\", time.gmtime())\n",
    "VERSION_TIMESTAMP"
   ]
  },
  {
   "cell_type": "code",
   "execution_count": 13,
   "id": "c56069ee",
   "metadata": {
    "scrolled": true
   },
   "outputs": [],
   "source": [
    "from sagemaker.tensorflow import TensorFlow\n",
    "\n",
    "tf_estimator = TensorFlow(entry_point=MODEL_FILE, \n",
    "                          source_dir=\"script\",\n",
    "                          role=role,\n",
    "                          #model_dir=MODEL_DIR, # this only saves the checkpoints \n",
    "                          instance_count=INSTANCE_COUNT, \n",
    "                          instance_type=INSTANCE_TYPE,\n",
    "                          framework_version=FRAMEWORK_VERSION,\n",
    "                          py_version='py39',\n",
    "                          script_mode=True,\n",
    "                          hyperparameters={\n",
    "                              \"epochs\": N_EPOCHS,\n",
    "                              \"data\": \"training.csv\", \n",
    "                              \"weights\": \"9_jun_1130am_weights\", \n",
    "                              \"vectorizer\": \"9_jun_1130am_vectorizer.pkl\",\n",
    "                              \"pretrained\": \"model/SOME_VERSION/model.tar.gz\",\n",
    "                          },\n",
    "                         )"
   ]
  },
  {
   "cell_type": "code",
   "execution_count": 14,
   "id": "1d637201",
   "metadata": {
    "scrolled": true
   },
   "outputs": [
    {
     "name": "stdout",
     "output_type": "stream",
     "text": [
      "Creating io1p7rsygu-algo-1-r4vhz ... \n",
      "Creating io1p7rsygu-algo-1-r4vhz ... done\n",
      "Attaching to io1p7rsygu-algo-1-r4vhz\n",
      "\u001b[36mio1p7rsygu-algo-1-r4vhz |\u001b[0m 2022-06-14 02:06:59.624869: W tensorflow/core/profiler/internal/smprofiler_timeline.cc:460] Initializing the SageMaker Profiler.\n",
      "\u001b[36mio1p7rsygu-algo-1-r4vhz |\u001b[0m 2022-06-14 02:06:59.625048: W tensorflow/core/profiler/internal/smprofiler_timeline.cc:105] SageMaker Profiler is not enabled. The timeline writer thread will not be started, future recorded events will be dropped.\n",
      "\u001b[36mio1p7rsygu-algo-1-r4vhz |\u001b[0m 2022-06-14 02:06:59.657799: W tensorflow/core/profiler/internal/smprofiler_timeline.cc:460] Initializing the SageMaker Profiler.\n",
      "\u001b[36mio1p7rsygu-algo-1-r4vhz |\u001b[0m 2022-06-14 02:07:01,914 sagemaker-training-toolkit INFO     Imported framework sagemaker_tensorflow_container.training\n",
      "\u001b[36mio1p7rsygu-algo-1-r4vhz |\u001b[0m 2022-06-14 02:07:01,925 sagemaker-training-toolkit INFO     No GPUs detected (normal if no gpus installed)\n",
      "\u001b[36mio1p7rsygu-algo-1-r4vhz |\u001b[0m 2022-06-14 02:07:02,181 sagemaker-training-toolkit INFO     Installing dependencies from requirements.txt:\n",
      "\u001b[36mio1p7rsygu-algo-1-r4vhz |\u001b[0m /usr/local/bin/python3.9 -m pip install -r requirements.txt\n",
      "\u001b[36mio1p7rsygu-algo-1-r4vhz |\u001b[0m Collecting s3fs>=2021.04.0\n",
      "\u001b[36mio1p7rsygu-algo-1-r4vhz |\u001b[0m Downloading s3fs-2022.5.0-py3-none-any.whl (27 kB)\n",
      "\u001b[36mio1p7rsygu-algo-1-r4vhz |\u001b[0m Requirement already satisfied: joblib>=0.13.2 in /usr/local/lib/python3.9/site-packages (from -r requirements.txt (line 2)) (1.1.0)\n",
      "\u001b[36mio1p7rsygu-algo-1-r4vhz |\u001b[0m Collecting aiobotocore~=2.3.0\n",
      "\u001b[36mio1p7rsygu-algo-1-r4vhz |\u001b[0m Downloading aiobotocore-2.3.3.tar.gz (65 kB)\n",
      "\u001b[36mio1p7rsygu-algo-1-r4vhz |\u001b[0m ━━━━━━━━━━━━━━━━━━━━━━━━━━━━━━━━━━━━━━━━ 65.7/65.7 kB 12.0 MB/s eta 0:00:00\n",
      "\u001b[36mio1p7rsygu-algo-1-r4vhz |\u001b[0m \n",
      "\u001b[36mio1p7rsygu-algo-1-r4vhz |\u001b[0m Preparing metadata (setup.py): started\n",
      "\u001b[36mio1p7rsygu-algo-1-r4vhz |\u001b[0m Preparing metadata (setup.py): finished with status 'done'\n",
      "\u001b[36mio1p7rsygu-algo-1-r4vhz |\u001b[0m Requirement already satisfied: fsspec==2022.5.0 in /usr/local/lib/python3.9/site-packages (from s3fs>=2021.04.0->-r requirements.txt (line 1)) (2022.5.0)\n",
      "\u001b[36mio1p7rsygu-algo-1-r4vhz |\u001b[0m Collecting aiohttp<=4\n",
      "\u001b[36mio1p7rsygu-algo-1-r4vhz |\u001b[0m Downloading aiohttp-3.8.1-cp39-cp39-manylinux_2_5_x86_64.manylinux1_x86_64.manylinux_2_12_x86_64.manylinux2010_x86_64.whl (1.2 MB)\n",
      "\u001b[36mio1p7rsygu-algo-1-r4vhz |\u001b[0m ━━━━━━━━━━━━━━━━━━━━━━━━━━━━━━━━━━━━━━━━ 1.2/1.2 MB 59.4 MB/s eta 0:00:00\n",
      "\u001b[36mio1p7rsygu-algo-1-r4vhz |\u001b[0m \n",
      "\u001b[36mio1p7rsygu-algo-1-r4vhz |\u001b[0m Collecting botocore<1.24.22,>=1.24.21\n",
      "\u001b[36mio1p7rsygu-algo-1-r4vhz |\u001b[0m Downloading botocore-1.24.21-py3-none-any.whl (8.6 MB)\n",
      "\u001b[36mio1p7rsygu-algo-1-r4vhz |\u001b[0m ━━━━━━━━━━━━━━━━━━━━━━━━━━━━━━━━━━━━━━━━ 8.6/8.6 MB 76.1 MB/s eta 0:00:00\n",
      "\u001b[36mio1p7rsygu-algo-1-r4vhz |\u001b[0m \n",
      "\u001b[36mio1p7rsygu-algo-1-r4vhz |\u001b[0m Requirement already satisfied: wrapt>=1.10.10 in /usr/local/lib/python3.9/site-packages (from aiobotocore~=2.3.0->s3fs>=2021.04.0->-r requirements.txt (line 1)) (1.14.1)\n",
      "\u001b[36mio1p7rsygu-algo-1-r4vhz |\u001b[0m Collecting aioitertools>=0.5.1\n",
      "\u001b[36mio1p7rsygu-algo-1-r4vhz |\u001b[0m Downloading aioitertools-0.10.0-py3-none-any.whl (23 kB)\n",
      "\u001b[36mio1p7rsygu-algo-1-r4vhz |\u001b[0m Requirement already satisfied: attrs>=17.3.0 in /usr/local/lib/python3.9/site-packages (from aiohttp<=4->s3fs>=2021.04.0->-r requirements.txt (line 1)) (20.3.0)\n",
      "\u001b[36mio1p7rsygu-algo-1-r4vhz |\u001b[0m Collecting frozenlist>=1.1.1\n",
      "\u001b[36mio1p7rsygu-algo-1-r4vhz |\u001b[0m Downloading frozenlist-1.3.0-cp39-cp39-manylinux_2_5_x86_64.manylinux1_x86_64.manylinux_2_17_x86_64.manylinux2014_x86_64.whl (156 kB)\n",
      "\u001b[36mio1p7rsygu-algo-1-r4vhz |\u001b[0m ━━━━━━━━━━━━━━━━━━━━━━━━━━━━━━━━━━━━━━ 156.2/156.2 kB 25.6 MB/s eta 0:00:00\n",
      "\u001b[36mio1p7rsygu-algo-1-r4vhz |\u001b[0m \n",
      "\u001b[36mio1p7rsygu-algo-1-r4vhz |\u001b[0m Collecting async-timeout<5.0,>=4.0.0a3\n",
      "\u001b[36mio1p7rsygu-algo-1-r4vhz |\u001b[0m Downloading async_timeout-4.0.2-py3-none-any.whl (5.8 kB)\n",
      "\u001b[36mio1p7rsygu-algo-1-r4vhz |\u001b[0m Collecting yarl<2.0,>=1.0\n",
      "\u001b[36mio1p7rsygu-algo-1-r4vhz |\u001b[0m Downloading yarl-1.7.2-cp39-cp39-manylinux_2_5_x86_64.manylinux1_x86_64.manylinux_2_12_x86_64.manylinux2010_x86_64.whl (304 kB)\n",
      "\u001b[36mio1p7rsygu-algo-1-r4vhz |\u001b[0m ━━━━━━━━━━━━━━━━━━━━━━━━━━━━━━━━━━━━━━ 304.5/304.5 kB 36.0 MB/s eta 0:00:00\n",
      "\u001b[36mio1p7rsygu-algo-1-r4vhz |\u001b[0m \n",
      "\u001b[36mio1p7rsygu-algo-1-r4vhz |\u001b[0m Collecting aiosignal>=1.1.2\n",
      "\u001b[36mio1p7rsygu-algo-1-r4vhz |\u001b[0m Downloading aiosignal-1.2.0-py3-none-any.whl (8.2 kB)\n",
      "\u001b[36mio1p7rsygu-algo-1-r4vhz |\u001b[0m Requirement already satisfied: charset-normalizer<3.0,>=2.0 in /usr/local/lib/python3.9/site-packages (from aiohttp<=4->s3fs>=2021.04.0->-r requirements.txt (line 1)) (2.0.12)\n",
      "\u001b[36mio1p7rsygu-algo-1-r4vhz |\u001b[0m Collecting multidict<7.0,>=4.5\n",
      "\u001b[36mio1p7rsygu-algo-1-r4vhz |\u001b[0m Downloading multidict-6.0.2-cp39-cp39-manylinux_2_17_x86_64.manylinux2014_x86_64.whl (114 kB)\n",
      "\u001b[36mio1p7rsygu-algo-1-r4vhz |\u001b[0m ━━━━━━━━━━━━━━━━━━━━━━━━━━━━━━━━━━━━━━ 114.2/114.2 kB 20.7 MB/s eta 0:00:00\n",
      "\u001b[36mio1p7rsygu-algo-1-r4vhz |\u001b[0m \n",
      "\u001b[36mio1p7rsygu-algo-1-r4vhz |\u001b[0m Requirement already satisfied: typing_extensions>=4.0 in /usr/local/lib/python3.9/site-packages (from aioitertools>=0.5.1->aiobotocore~=2.3.0->s3fs>=2021.04.0->-r requirements.txt (line 1)) (4.2.0)\n",
      "\u001b[36mio1p7rsygu-algo-1-r4vhz |\u001b[0m Requirement already satisfied: urllib3<1.27,>=1.25.4 in /usr/local/lib/python3.9/site-packages (from botocore<1.24.22,>=1.24.21->aiobotocore~=2.3.0->s3fs>=2021.04.0->-r requirements.txt (line 1)) (1.26.9)\n",
      "\u001b[36mio1p7rsygu-algo-1-r4vhz |\u001b[0m Requirement already satisfied: python-dateutil<3.0.0,>=2.1 in /usr/local/lib/python3.9/site-packages (from botocore<1.24.22,>=1.24.21->aiobotocore~=2.3.0->s3fs>=2021.04.0->-r requirements.txt (line 1)) (2.8.2)\n",
      "\u001b[36mio1p7rsygu-algo-1-r4vhz |\u001b[0m Requirement already satisfied: jmespath<2.0.0,>=0.7.1 in /usr/local/lib/python3.9/site-packages (from botocore<1.24.22,>=1.24.21->aiobotocore~=2.3.0->s3fs>=2021.04.0->-r requirements.txt (line 1)) (1.0.0)\n",
      "\u001b[36mio1p7rsygu-algo-1-r4vhz |\u001b[0m Requirement already satisfied: idna>=2.0 in /usr/local/lib/python3.9/site-packages (from yarl<2.0,>=1.0->aiohttp<=4->s3fs>=2021.04.0->-r requirements.txt (line 1)) (3.3)\n",
      "\u001b[36mio1p7rsygu-algo-1-r4vhz |\u001b[0m Requirement already satisfied: six>=1.5 in /usr/local/lib/python3.9/site-packages (from python-dateutil<3.0.0,>=2.1->botocore<1.24.22,>=1.24.21->aiobotocore~=2.3.0->s3fs>=2021.04.0->-r requirements.txt (line 1)) (1.16.0)\n",
      "\u001b[36mio1p7rsygu-algo-1-r4vhz |\u001b[0m Building wheels for collected packages: aiobotocore\n",
      "\u001b[36mio1p7rsygu-algo-1-r4vhz |\u001b[0m Building wheel for aiobotocore (setup.py): started\n",
      "\u001b[36mio1p7rsygu-algo-1-r4vhz |\u001b[0m Building wheel for aiobotocore (setup.py): finished with status 'done'\n",
      "\u001b[36mio1p7rsygu-algo-1-r4vhz |\u001b[0m Created wheel for aiobotocore: filename=aiobotocore-2.3.3-py3-none-any.whl size=64624 sha256=d553503cbeaf7af988bb4922e946769f87ef0e4fe43758cad59c2fa64fe6e92b\n",
      "\u001b[36mio1p7rsygu-algo-1-r4vhz |\u001b[0m Stored in directory: /root/.cache/pip/wheels/94/17/78/ffd14570472cdfb16001e4a30e8c9cab25c9e22e126c58ecd1\n",
      "\u001b[36mio1p7rsygu-algo-1-r4vhz |\u001b[0m Successfully built aiobotocore\n",
      "\u001b[36mio1p7rsygu-algo-1-r4vhz |\u001b[0m Installing collected packages: multidict, frozenlist, async-timeout, aioitertools, yarl, botocore, aiosignal, aiohttp, aiobotocore, s3fs\n",
      "\u001b[36mio1p7rsygu-algo-1-r4vhz |\u001b[0m Attempting uninstall: botocore\n",
      "\u001b[36mio1p7rsygu-algo-1-r4vhz |\u001b[0m Found existing installation: botocore 1.26.4\n",
      "\u001b[36mio1p7rsygu-algo-1-r4vhz |\u001b[0m Uninstalling botocore-1.26.4:\n",
      "\u001b[36mio1p7rsygu-algo-1-r4vhz |\u001b[0m Successfully uninstalled botocore-1.26.4\n",
      "\u001b[36mio1p7rsygu-algo-1-r4vhz |\u001b[0m Attempting uninstall: s3fs\n",
      "\u001b[36mio1p7rsygu-algo-1-r4vhz |\u001b[0m Found existing installation: s3fs 0.4.2\n",
      "\u001b[36mio1p7rsygu-algo-1-r4vhz |\u001b[0m Uninstalling s3fs-0.4.2:\n",
      "\u001b[36mio1p7rsygu-algo-1-r4vhz |\u001b[0m Successfully uninstalled s3fs-0.4.2\n",
      "\u001b[36mio1p7rsygu-algo-1-r4vhz |\u001b[0m ERROR: pip's dependency resolver does not currently take into account all the packages that are installed. This behaviour is the source of the following dependency conflicts.\n",
      "\u001b[36mio1p7rsygu-algo-1-r4vhz |\u001b[0m boto3 1.23.4 requires botocore<1.27.0,>=1.26.4, but you have botocore 1.24.21 which is incompatible.\n",
      "\u001b[36mio1p7rsygu-algo-1-r4vhz |\u001b[0m awscli 1.24.4 requires botocore==1.26.4, but you have botocore 1.24.21 which is incompatible.\n",
      "\u001b[36mio1p7rsygu-algo-1-r4vhz |\u001b[0m Successfully installed aiobotocore-2.3.3 aiohttp-3.8.1 aioitertools-0.10.0 aiosignal-1.2.0 async-timeout-4.0.2 botocore-1.24.21 frozenlist-1.3.0 multidict-6.0.2 s3fs-2022.5.0 yarl-1.7.2\n",
      "\u001b[36mio1p7rsygu-algo-1-r4vhz |\u001b[0m WARNING: Running pip as the 'root' user can result in broken permissions and conflicting behaviour with the system package manager. It is recommended to use a virtual environment instead: https://pip.pypa.io/warnings/venv\n"
     ]
    },
    {
     "name": "stdout",
     "output_type": "stream",
     "text": [
      "\u001b[36mio1p7rsygu-algo-1-r4vhz |\u001b[0m WARNING: There was an error checking the latest version of pip.\n",
      "\u001b[36mio1p7rsygu-algo-1-r4vhz |\u001b[0m 2022-06-14 02:07:14,213 sagemaker-training-toolkit INFO     No GPUs detected (normal if no gpus installed)\n",
      "\u001b[36mio1p7rsygu-algo-1-r4vhz |\u001b[0m 2022-06-14 02:07:14,235 sagemaker-training-toolkit INFO     No GPUs detected (normal if no gpus installed)\n",
      "\u001b[36mio1p7rsygu-algo-1-r4vhz |\u001b[0m 2022-06-14 02:07:14,260 sagemaker-training-toolkit INFO     No GPUs detected (normal if no gpus installed)\n",
      "\u001b[36mio1p7rsygu-algo-1-r4vhz |\u001b[0m 2022-06-14 02:07:14,272 sagemaker-training-toolkit INFO     Invoking user script\n",
      "\u001b[36mio1p7rsygu-algo-1-r4vhz |\u001b[0m \n",
      "\u001b[36mio1p7rsygu-algo-1-r4vhz |\u001b[0m Training Env:\n",
      "\u001b[36mio1p7rsygu-algo-1-r4vhz |\u001b[0m \n",
      "\u001b[36mio1p7rsygu-algo-1-r4vhz |\u001b[0m {\n",
      "\u001b[36mio1p7rsygu-algo-1-r4vhz |\u001b[0m     \"additional_framework_parameters\": {},\n",
      "\u001b[36mio1p7rsygu-algo-1-r4vhz |\u001b[0m     \"channel_input_dirs\": {\n",
      "\u001b[36mio1p7rsygu-algo-1-r4vhz |\u001b[0m         \"training\": \"/opt/ml/input/data/training\"\n",
      "\u001b[36mio1p7rsygu-algo-1-r4vhz |\u001b[0m     },\n",
      "\u001b[36mio1p7rsygu-algo-1-r4vhz |\u001b[0m     \"current_host\": \"algo-1-r4vhz\",\n",
      "\u001b[36mio1p7rsygu-algo-1-r4vhz |\u001b[0m     \"framework_module\": \"sagemaker_tensorflow_container.training:main\",\n",
      "\u001b[36mio1p7rsygu-algo-1-r4vhz |\u001b[0m     \"hosts\": [\n",
      "\u001b[36mio1p7rsygu-algo-1-r4vhz |\u001b[0m         \"algo-1-r4vhz\"\n",
      "\u001b[36mio1p7rsygu-algo-1-r4vhz |\u001b[0m     ],\n",
      "\u001b[36mio1p7rsygu-algo-1-r4vhz |\u001b[0m     \"hyperparameters\": {\n",
      "\u001b[36mio1p7rsygu-algo-1-r4vhz |\u001b[0m         \"epochs\": 1,\n",
      "\u001b[36mio1p7rsygu-algo-1-r4vhz |\u001b[0m         \"data\": \"training.csv\",\n",
      "\u001b[36mio1p7rsygu-algo-1-r4vhz |\u001b[0m         \"weights\": \"9_jun_1130am_weights\",\n",
      "\u001b[36mio1p7rsygu-algo-1-r4vhz |\u001b[0m         \"vectorizer\": \"9_jun_1130am_vectorizer.pkl\",\n",
      "\u001b[36mio1p7rsygu-algo-1-r4vhz |\u001b[0m         \"pretrained\": \"model/SOME_VERSION/model.tar.gz\",\n",
      "\u001b[36mio1p7rsygu-algo-1-r4vhz |\u001b[0m         \"model_dir\": \"s3://sagemaker-ap-southeast-1-527655063528/tensorflow-training-2022-06-14-02-06-55-844/model\"\n",
      "\u001b[36mio1p7rsygu-algo-1-r4vhz |\u001b[0m     },\n",
      "\u001b[36mio1p7rsygu-algo-1-r4vhz |\u001b[0m     \"input_config_dir\": \"/opt/ml/input/config\",\n",
      "\u001b[36mio1p7rsygu-algo-1-r4vhz |\u001b[0m     \"input_data_config\": {\n",
      "\u001b[36mio1p7rsygu-algo-1-r4vhz |\u001b[0m         \"training\": {\n",
      "\u001b[36mio1p7rsygu-algo-1-r4vhz |\u001b[0m             \"TrainingInputMode\": \"File\"\n",
      "\u001b[36mio1p7rsygu-algo-1-r4vhz |\u001b[0m         }\n",
      "\u001b[36mio1p7rsygu-algo-1-r4vhz |\u001b[0m     },\n",
      "\u001b[36mio1p7rsygu-algo-1-r4vhz |\u001b[0m     \"input_dir\": \"/opt/ml/input\",\n",
      "\u001b[36mio1p7rsygu-algo-1-r4vhz |\u001b[0m     \"is_master\": true,\n",
      "\u001b[36mio1p7rsygu-algo-1-r4vhz |\u001b[0m     \"job_name\": \"tensorflow-training-2022-06-14-02-06-55-844\",\n",
      "\u001b[36mio1p7rsygu-algo-1-r4vhz |\u001b[0m     \"log_level\": 20,\n",
      "\u001b[36mio1p7rsygu-algo-1-r4vhz |\u001b[0m     \"master_hostname\": \"algo-1-r4vhz\",\n",
      "\u001b[36mio1p7rsygu-algo-1-r4vhz |\u001b[0m     \"model_dir\": \"/opt/ml/model\",\n",
      "\u001b[36mio1p7rsygu-algo-1-r4vhz |\u001b[0m     \"module_dir\": \"s3://sagemaker-ap-southeast-1-527655063528/tensorflow-training-2022-06-14-02-06-55-844/source/sourcedir.tar.gz\",\n",
      "\u001b[36mio1p7rsygu-algo-1-r4vhz |\u001b[0m     \"module_name\": \"model_v1_vect\",\n",
      "\u001b[36mio1p7rsygu-algo-1-r4vhz |\u001b[0m     \"network_interface_name\": \"eth0\",\n",
      "\u001b[36mio1p7rsygu-algo-1-r4vhz |\u001b[0m     \"num_cpus\": 2,\n",
      "\u001b[36mio1p7rsygu-algo-1-r4vhz |\u001b[0m     \"num_gpus\": 0,\n",
      "\u001b[36mio1p7rsygu-algo-1-r4vhz |\u001b[0m     \"output_data_dir\": \"/opt/ml/output/data\",\n",
      "\u001b[36mio1p7rsygu-algo-1-r4vhz |\u001b[0m     \"output_dir\": \"/opt/ml/output\",\n",
      "\u001b[36mio1p7rsygu-algo-1-r4vhz |\u001b[0m     \"output_intermediate_dir\": \"/opt/ml/output/intermediate\",\n",
      "\u001b[36mio1p7rsygu-algo-1-r4vhz |\u001b[0m     \"resource_config\": {\n",
      "\u001b[36mio1p7rsygu-algo-1-r4vhz |\u001b[0m         \"current_host\": \"algo-1-r4vhz\",\n",
      "\u001b[36mio1p7rsygu-algo-1-r4vhz |\u001b[0m         \"hosts\": [\n",
      "\u001b[36mio1p7rsygu-algo-1-r4vhz |\u001b[0m             \"algo-1-r4vhz\"\n",
      "\u001b[36mio1p7rsygu-algo-1-r4vhz |\u001b[0m         ]\n",
      "\u001b[36mio1p7rsygu-algo-1-r4vhz |\u001b[0m     },\n",
      "\u001b[36mio1p7rsygu-algo-1-r4vhz |\u001b[0m     \"user_entry_point\": \"model_v1_vect.py\"\n",
      "\u001b[36mio1p7rsygu-algo-1-r4vhz |\u001b[0m }\n",
      "\u001b[36mio1p7rsygu-algo-1-r4vhz |\u001b[0m \n",
      "\u001b[36mio1p7rsygu-algo-1-r4vhz |\u001b[0m Environment variables:\n",
      "\u001b[36mio1p7rsygu-algo-1-r4vhz |\u001b[0m \n",
      "\u001b[36mio1p7rsygu-algo-1-r4vhz |\u001b[0m SM_HOSTS=[\"algo-1-r4vhz\"]\n",
      "\u001b[36mio1p7rsygu-algo-1-r4vhz |\u001b[0m SM_NETWORK_INTERFACE_NAME=eth0\n",
      "\u001b[36mio1p7rsygu-algo-1-r4vhz |\u001b[0m SM_HPS={\"data\":\"training.csv\",\"epochs\":1,\"model_dir\":\"s3://sagemaker-ap-southeast-1-527655063528/tensorflow-training-2022-06-14-02-06-55-844/model\",\"pretrained\":\"model/SOME_VERSION/model.tar.gz\",\"vectorizer\":\"9_jun_1130am_vectorizer.pkl\",\"weights\":\"9_jun_1130am_weights\"}\n",
      "\u001b[36mio1p7rsygu-algo-1-r4vhz |\u001b[0m SM_USER_ENTRY_POINT=model_v1_vect.py\n",
      "\u001b[36mio1p7rsygu-algo-1-r4vhz |\u001b[0m SM_FRAMEWORK_PARAMS={}\n",
      "\u001b[36mio1p7rsygu-algo-1-r4vhz |\u001b[0m SM_RESOURCE_CONFIG={\"current_host\":\"algo-1-r4vhz\",\"hosts\":[\"algo-1-r4vhz\"]}\n",
      "\u001b[36mio1p7rsygu-algo-1-r4vhz |\u001b[0m SM_INPUT_DATA_CONFIG={\"training\":{\"TrainingInputMode\":\"File\"}}\n",
      "\u001b[36mio1p7rsygu-algo-1-r4vhz |\u001b[0m SM_OUTPUT_DATA_DIR=/opt/ml/output/data\n",
      "\u001b[36mio1p7rsygu-algo-1-r4vhz |\u001b[0m SM_CHANNELS=[\"training\"]\n",
      "\u001b[36mio1p7rsygu-algo-1-r4vhz |\u001b[0m SM_CURRENT_HOST=algo-1-r4vhz\n",
      "\u001b[36mio1p7rsygu-algo-1-r4vhz |\u001b[0m SM_MODULE_NAME=model_v1_vect\n",
      "\u001b[36mio1p7rsygu-algo-1-r4vhz |\u001b[0m SM_LOG_LEVEL=20\n",
      "\u001b[36mio1p7rsygu-algo-1-r4vhz |\u001b[0m SM_FRAMEWORK_MODULE=sagemaker_tensorflow_container.training:main\n",
      "\u001b[36mio1p7rsygu-algo-1-r4vhz |\u001b[0m SM_INPUT_DIR=/opt/ml/input\n",
      "\u001b[36mio1p7rsygu-algo-1-r4vhz |\u001b[0m SM_INPUT_CONFIG_DIR=/opt/ml/input/config\n",
      "\u001b[36mio1p7rsygu-algo-1-r4vhz |\u001b[0m SM_OUTPUT_DIR=/opt/ml/output\n",
      "\u001b[36mio1p7rsygu-algo-1-r4vhz |\u001b[0m SM_NUM_CPUS=2\n",
      "\u001b[36mio1p7rsygu-algo-1-r4vhz |\u001b[0m SM_NUM_GPUS=0\n",
      "\u001b[36mio1p7rsygu-algo-1-r4vhz |\u001b[0m SM_MODEL_DIR=/opt/ml/model\n",
      "\u001b[36mio1p7rsygu-algo-1-r4vhz |\u001b[0m SM_MODULE_DIR=s3://sagemaker-ap-southeast-1-527655063528/tensorflow-training-2022-06-14-02-06-55-844/source/sourcedir.tar.gz\n",
      "\u001b[36mio1p7rsygu-algo-1-r4vhz |\u001b[0m SM_TRAINING_ENV={\"additional_framework_parameters\":{},\"channel_input_dirs\":{\"training\":\"/opt/ml/input/data/training\"},\"current_host\":\"algo-1-r4vhz\",\"framework_module\":\"sagemaker_tensorflow_container.training:main\",\"hosts\":[\"algo-1-r4vhz\"],\"hyperparameters\":{\"data\":\"training.csv\",\"epochs\":1,\"model_dir\":\"s3://sagemaker-ap-southeast-1-527655063528/tensorflow-training-2022-06-14-02-06-55-844/model\",\"pretrained\":\"model/SOME_VERSION/model.tar.gz\",\"vectorizer\":\"9_jun_1130am_vectorizer.pkl\",\"weights\":\"9_jun_1130am_weights\"},\"input_config_dir\":\"/opt/ml/input/config\",\"input_data_config\":{\"training\":{\"TrainingInputMode\":\"File\"}},\"input_dir\":\"/opt/ml/input\",\"is_master\":true,\"job_name\":\"tensorflow-training-2022-06-14-02-06-55-844\",\"log_level\":20,\"master_hostname\":\"algo-1-r4vhz\",\"model_dir\":\"/opt/ml/model\",\"module_dir\":\"s3://sagemaker-ap-southeast-1-527655063528/tensorflow-training-2022-06-14-02-06-55-844/source/sourcedir.tar.gz\",\"module_name\":\"model_v1_vect\",\"network_interface_name\":\"eth0\",\"num_cpus\":2,\"num_gpus\":0,\"output_data_dir\":\"/opt/ml/output/data\",\"output_dir\":\"/opt/ml/output\",\"output_intermediate_dir\":\"/opt/ml/output/intermediate\",\"resource_config\":{\"current_host\":\"algo-1-r4vhz\",\"hosts\":[\"algo-1-r4vhz\"]},\"user_entry_point\":\"model_v1_vect.py\"}\n",
      "\u001b[36mio1p7rsygu-algo-1-r4vhz |\u001b[0m SM_USER_ARGS=[\"--data\",\"training.csv\",\"--epochs\",\"1\",\"--model_dir\",\"s3://sagemaker-ap-southeast-1-527655063528/tensorflow-training-2022-06-14-02-06-55-844/model\",\"--pretrained\",\"model/SOME_VERSION/model.tar.gz\",\"--vectorizer\",\"9_jun_1130am_vectorizer.pkl\",\"--weights\",\"9_jun_1130am_weights\"]\n",
      "\u001b[36mio1p7rsygu-algo-1-r4vhz |\u001b[0m SM_OUTPUT_INTERMEDIATE_DIR=/opt/ml/output/intermediate\n",
      "\u001b[36mio1p7rsygu-algo-1-r4vhz |\u001b[0m SM_CHANNEL_TRAINING=/opt/ml/input/data/training\n",
      "\u001b[36mio1p7rsygu-algo-1-r4vhz |\u001b[0m SM_HP_EPOCHS=1\n",
      "\u001b[36mio1p7rsygu-algo-1-r4vhz |\u001b[0m SM_HP_DATA=training.csv\n",
      "\u001b[36mio1p7rsygu-algo-1-r4vhz |\u001b[0m SM_HP_WEIGHTS=9_jun_1130am_weights\n",
      "\u001b[36mio1p7rsygu-algo-1-r4vhz |\u001b[0m SM_HP_VECTORIZER=9_jun_1130am_vectorizer.pkl\n",
      "\u001b[36mio1p7rsygu-algo-1-r4vhz |\u001b[0m SM_HP_PRETRAINED=model/SOME_VERSION/model.tar.gz\n",
      "\u001b[36mio1p7rsygu-algo-1-r4vhz |\u001b[0m SM_HP_MODEL_DIR=s3://sagemaker-ap-southeast-1-527655063528/tensorflow-training-2022-06-14-02-06-55-844/model\n",
      "\u001b[36mio1p7rsygu-algo-1-r4vhz |\u001b[0m PYTHONPATH=/opt/ml/code:/usr/local/bin:/usr/local/lib/python39.zip:/usr/local/lib/python3.9:/usr/local/lib/python3.9/lib-dynload:/usr/local/lib/python3.9/site-packages:/usr/local/lib/python3.9/site-packages/smdebug-1.0.14b20220520-py3.9.egg:/usr/local/lib/python3.9/site-packages/pyinstrument-3.4.2-py3.9.egg:/usr/local/lib/python3.9/site-packages/pyinstrument_cext-0.2.4-py3.9-linux-x86_64.egg\n",
      "\u001b[36mio1p7rsygu-algo-1-r4vhz |\u001b[0m \n",
      "\u001b[36mio1p7rsygu-algo-1-r4vhz |\u001b[0m Invoking script with the following command:\n",
      "\u001b[36mio1p7rsygu-algo-1-r4vhz |\u001b[0m \n",
      "\u001b[36mio1p7rsygu-algo-1-r4vhz |\u001b[0m /usr/local/bin/python3.9 model_v1_vect.py --data training.csv --epochs 1 --model_dir s3://sagemaker-ap-southeast-1-527655063528/tensorflow-training-2022-06-14-02-06-55-844/model --pretrained model/SOME_VERSION/model.tar.gz --vectorizer 9_jun_1130am_vectorizer.pkl --weights 9_jun_1130am_weights\n",
      "\u001b[36mio1p7rsygu-algo-1-r4vhz |\u001b[0m \n",
      "\u001b[36mio1p7rsygu-algo-1-r4vhz |\u001b[0m \n"
     ]
    },
    {
     "name": "stdout",
     "output_type": "stream",
     "text": [
      "\u001b[36mio1p7rsygu-algo-1-r4vhz |\u001b[0m Collecting botocore==1.26.4\n",
      "\u001b[36mio1p7rsygu-algo-1-r4vhz |\u001b[0m Downloading botocore-1.26.4-py3-none-any.whl (8.8 MB)\n",
      "\u001b[36mio1p7rsygu-algo-1-r4vhz |\u001b[0m ━━━━━━━━━━━━━━━━━━━━━━━━━━━━━━━━━━━━━━━━ 8.8/8.8 MB 63.6 MB/s eta 0:00:00\n",
      "\u001b[36mio1p7rsygu-algo-1-r4vhz |\u001b[0m \n",
      "\u001b[36mio1p7rsygu-algo-1-r4vhz |\u001b[0m Requirement already satisfied: python-dateutil<3.0.0,>=2.1 in /usr/local/lib/python3.9/site-packages (from botocore==1.26.4) (2.8.2)\n",
      "\u001b[36mio1p7rsygu-algo-1-r4vhz |\u001b[0m Requirement already satisfied: jmespath<2.0.0,>=0.7.1 in /usr/local/lib/python3.9/site-packages (from botocore==1.26.4) (1.0.0)\n",
      "\u001b[36mio1p7rsygu-algo-1-r4vhz |\u001b[0m Requirement already satisfied: urllib3<1.27,>=1.25.4 in /usr/local/lib/python3.9/site-packages (from botocore==1.26.4) (1.26.9)\n",
      "\u001b[36mio1p7rsygu-algo-1-r4vhz |\u001b[0m Requirement already satisfied: six>=1.5 in /usr/local/lib/python3.9/site-packages (from python-dateutil<3.0.0,>=2.1->botocore==1.26.4) (1.16.0)\n",
      "\u001b[36mio1p7rsygu-algo-1-r4vhz |\u001b[0m Installing collected packages: botocore\n",
      "\u001b[36mio1p7rsygu-algo-1-r4vhz |\u001b[0m Attempting uninstall: botocore\n",
      "\u001b[36mio1p7rsygu-algo-1-r4vhz |\u001b[0m Found existing installation: botocore 1.24.21\n",
      "\u001b[36mio1p7rsygu-algo-1-r4vhz |\u001b[0m Uninstalling botocore-1.24.21:\n",
      "\u001b[36mio1p7rsygu-algo-1-r4vhz |\u001b[0m Successfully uninstalled botocore-1.24.21\n",
      "\u001b[36mio1p7rsygu-algo-1-r4vhz |\u001b[0m ERROR: pip's dependency resolver does not currently take into account all the packages that are installed. This behaviour is the source of the following dependency conflicts.\n",
      "\u001b[36mio1p7rsygu-algo-1-r4vhz |\u001b[0m aiobotocore 2.3.3 requires botocore<1.24.22,>=1.24.21, but you have botocore 1.26.4 which is incompatible.\n",
      "\u001b[36mio1p7rsygu-algo-1-r4vhz |\u001b[0m Successfully installed botocore-1.26.4\n",
      "\u001b[36mio1p7rsygu-algo-1-r4vhz |\u001b[0m WARNING: Running pip as the 'root' user can result in broken permissions and conflicting behaviour with the system package manager. It is recommended to use a virtual environment instead: https://pip.pypa.io/warnings/venv\n",
      "\u001b[36mio1p7rsygu-algo-1-r4vhz |\u001b[0m WARNING: There was an error checking the latest version of pip.\n",
      "\u001b[36mio1p7rsygu-algo-1-r4vhz |\u001b[0m 2022-06-14 02:07:19.015870: W tensorflow/core/profiler/internal/smprofiler_timeline.cc:460] Initializing the SageMaker Profiler.\n",
      "\u001b[36mio1p7rsygu-algo-1-r4vhz |\u001b[0m 2022-06-14 02:07:19.016040: W tensorflow/core/profiler/internal/smprofiler_timeline.cc:105] SageMaker Profiler is not enabled. The timeline writer thread will not be started, future recorded events will be dropped.\n",
      "\u001b[36mio1p7rsygu-algo-1-r4vhz |\u001b[0m 2022-06-14 02:07:19.051076: W tensorflow/core/profiler/internal/smprofiler_timeline.cc:460] Initializing the SageMaker Profiler.\n",
      "\u001b[36mio1p7rsygu-algo-1-r4vhz |\u001b[0m Train set = 6000\n",
      "\u001b[36mio1p7rsygu-algo-1-r4vhz |\u001b[0m Val set = 2000\n",
      "\u001b[36mio1p7rsygu-algo-1-r4vhz |\u001b[0m Test set = 2000\n",
      "\u001b[36mio1p7rsygu-algo-1-r4vhz |\u001b[0m /usr/local/lib/python3.9/site-packages/sklearn/base.py:329: UserWarning: Trying to unpickle estimator CountVectorizer from version 1.0.2 when using version 1.1.1. This might lead to breaking code or invalid results. Use at your own risk. For more info please refer to:\n",
      "\u001b[36mio1p7rsygu-algo-1-r4vhz |\u001b[0m https://scikit-learn.org/stable/model_persistence.html#security-maintainability-limitations\n",
      "\u001b[36mio1p7rsygu-algo-1-r4vhz |\u001b[0m   warnings.warn(\n",
      "\u001b[36mio1p7rsygu-algo-1-r4vhz |\u001b[0m Model: \"sequential\"\n",
      "\u001b[36mio1p7rsygu-algo-1-r4vhz |\u001b[0m _________________________________________________________________\n",
      "\u001b[36mio1p7rsygu-algo-1-r4vhz |\u001b[0m  Layer (type)                Output Shape              Param #   \n",
      "\u001b[36mio1p7rsygu-algo-1-r4vhz |\u001b[0m =================================================================\n",
      "\u001b[36mio1p7rsygu-algo-1-r4vhz |\u001b[0m text_vectorization (TextVec  (None, 16520)            0         \n",
      "\u001b[36mio1p7rsygu-algo-1-r4vhz |\u001b[0m  torization)\n",
      "\u001b[36mio1p7rsygu-algo-1-r4vhz |\u001b[0m dense (Dense)               (None, 256)               4229376   \n",
      "\u001b[36mio1p7rsygu-algo-1-r4vhz |\u001b[0m                                                                  \n",
      "\u001b[36mio1p7rsygu-algo-1-r4vhz |\u001b[0m  dense_1 (Dense)             (None, 1024)              263168    \n",
      "\u001b[36mio1p7rsygu-algo-1-r4vhz |\u001b[0m                                                                  \n",
      "\u001b[36mio1p7rsygu-algo-1-r4vhz |\u001b[0m  batch_normalization (BatchN  (None, 1024)             4096      \n",
      "\u001b[36mio1p7rsygu-algo-1-r4vhz |\u001b[0m  ormalization)                                                   \n",
      "\u001b[36mio1p7rsygu-algo-1-r4vhz |\u001b[0m                                                                  \n",
      "\u001b[36mio1p7rsygu-algo-1-r4vhz |\u001b[0m  dropout (Dropout)           (None, 1024)              0         \n",
      "\u001b[36mio1p7rsygu-algo-1-r4vhz |\u001b[0m                                                                  \n",
      "\u001b[36mio1p7rsygu-algo-1-r4vhz |\u001b[0m  dense_2 (Dense)             (None, 1)                 1025      \n",
      "\u001b[36mio1p7rsygu-algo-1-r4vhz |\u001b[0m                                                                  \n",
      "\u001b[36mio1p7rsygu-algo-1-r4vhz |\u001b[0m =================================================================\n",
      "\u001b[36mio1p7rsygu-algo-1-r4vhz |\u001b[0m Total params: 4,497,665\n",
      "\u001b[36mio1p7rsygu-algo-1-r4vhz |\u001b[0m Trainable params: 4,495,617\n",
      "\u001b[36mio1p7rsygu-algo-1-r4vhz |\u001b[0m Non-trainable params: 2,048\n",
      "\u001b[36mio1p7rsygu-algo-1-r4vhz |\u001b[0m _________________________________________________________________\n",
      "\u001b[36mio1p7rsygu-algo-1-r4vhz |\u001b[0m None\n",
      "\u001b[36mio1p7rsygu-algo-1-r4vhz |\u001b[0m Extension horovod.torch has not been built: /usr/local/lib/python3.9/site-packages/horovod/torch/mpi_lib/_mpi_lib.cpython-39-x86_64-linux-gnu.so not found\n",
      "\u001b[36mio1p7rsygu-algo-1-r4vhz |\u001b[0m If this is not expected, reinstall Horovod with HOROVOD_WITH_PYTORCH=1 to debug the build error.\n",
      "\u001b[36mio1p7rsygu-algo-1-r4vhz |\u001b[0m Warning! MPI libs are missing, but python applications are still avaiable.\n",
      "\u001b[36mio1p7rsygu-algo-1-r4vhz |\u001b[0m [2022-06-14 02:07:23.161 8ef55e29f23d:38 INFO utils.py:27] RULE_JOB_STOP_SIGNAL_FILENAME: None\n",
      "\u001b[36mio1p7rsygu-algo-1-r4vhz |\u001b[0m /usr/local/lib/python3.9/site-packages/smdebug-1.0.14b20220520-py3.9.egg/smdebug/profiler/system_metrics_reader.py:63: SyntaxWarning: \"is not\" with a literal. Did you mean \"!=\"?\n",
      "\u001b[36mio1p7rsygu-algo-1-r4vhz |\u001b[0m /usr/local/lib/python3.9/site-packages/smdebug-1.0.14b20220520-py3.9.egg/smdebug/profiler/system_metrics_reader.py:63: SyntaxWarning: \"is not\" with a literal. Did you mean \"!=\"?\n",
      "\u001b[36mio1p7rsygu-algo-1-r4vhz |\u001b[0m [2022-06-14 02:07:23.447 8ef55e29f23d:38 INFO profiler_config_parser.py:111] Unable to find config at /opt/ml/input/config/profilerconfig.json. Profiler is disabled.\n",
      "\u001b[36mio1p7rsygu-algo-1-r4vhz |\u001b[0m 1/47 [..............................] - ETA: 1:28 - loss: 0.7142 - recall_1: 0.0000e+00 - accuracy: 0.4219\n",
      " 2/47 [>.............................] - ETA: 2s - loss: 0.6866 - recall_1: 0.6250 - accuracy: 0.6016\n",
      " 3/47 [>.............................] - ETA: 2s - loss: 0.6649 - recall_1: 0.7500 - accuracy: 0.6719\n",
      " 4/47 [=>............................] - ETA: 2s - loss: 0.6523 - recall_1: 0.7000 - accuracy: 0.6934\n",
      " 5/47 [==>...........................] - ETA: 2s - loss: 0.6479 - recall_1: 0.7273 - accuracy: 0.7047\n",
      " 6/47 [==>...........................] - ETA: 2s - loss: 0.6284 - recall_1: 0.8000 - accuracy: 0.7318\n",
      " 7/47 [===>..........................] - ETA: 2s - loss: 0.6218 - recall_1: 0.7838 - accuracy: 0.7377\n",
      " 8/47 [====>.........................] - ETA: 2s - loss: 0.6159 - recall_1: 0.7750 - accuracy: 0.7510\n",
      " 9/47 [====>.........................] - ETA: 2s - loss: 0.6093 - recall_1: 0.7674 - accuracy: 0.7656\n",
      "10/47 [=====>........................] - ETA: 2s - loss: 0.5968 - recall_1: 0.7917 - accuracy: 0.7773\n",
      "11/47 [======>.......................] - ETA: 2s - loss: 0.5861 - recall_1: 0.8113 - accuracy: 0.7926\n",
      "12/47 [======>.......................] - ETA: 2s - loss: 0.5760 - recall_1: 0.8246 - accuracy: 0.8060\n",
      "13/47 [=======>......................] - ETA: 2s - loss: 0.5628 - recall_1: 0.8182 - accuracy: 0.8161\n",
      "14/47 [=======>......................] - ETA: 2s - loss: 0.5522 - recall_1: 0.8310 - accuracy: 0.8259\n",
      "15/47 [========>.....................] - ETA: 1s - loss: 0.5454 - recall_1: 0.8133 - accuracy: 0.8328\n",
      "16/47 [=========>....................] - ETA: 1s - loss: 0.5352 - recall_1: 0.8148 - accuracy: 0.8394\n"
     ]
    },
    {
     "name": "stdout",
     "output_type": "stream",
     "text": [
      "17/47 [=========>....................] - ETA: 1s - loss: 0.5284 - recall_1: 0.8214 - accuracy: 0.8456\n",
      "18/47 [==========>...................] - ETA: 1s - loss: 0.5199 - recall_1: 0.8046 - accuracy: 0.8529\n",
      "19/47 [===========>..................] - ETA: 1s - loss: 0.5092 - recall_1: 0.8090 - accuracy: 0.8598\n",
      "20/47 [===========>..................] - ETA: 1s - loss: 0.4970 - recall_1: 0.8081 - accuracy: 0.8648\n",
      "21/47 [============>.................] - ETA: 1s - loss: 0.4870 - recall_1: 0.8155 - accuracy: 0.8698\n",
      "22/47 [=============>................] - ETA: 1s - loss: 0.4803 - recall_1: 0.8190 - accuracy: 0.8736\n",
      "23/47 [=============>................] - ETA: 1s - loss: 0.4718 - recall_1: 0.8241 - accuracy: 0.8781\n",
      "24/47 [==============>...............] - ETA: 1s - loss: 0.4630 - recall_1: 0.8304 - accuracy: 0.8825\n",
      "25/47 [==============>...............] - ETA: 1s - loss: 0.4544 - recall_1: 0.8291 - accuracy: 0.8863\n",
      "26/47 [===============>..............] - ETA: 1s - loss: 0.4474 - recall_1: 0.8333 - accuracy: 0.8882\n",
      "27/47 [================>.............] - ETA: 1s - loss: 0.4384 - recall_1: 0.8413 - accuracy: 0.8912\n",
      "28/47 [================>.............] - ETA: 1s - loss: 0.4313 - recall_1: 0.8438 - accuracy: 0.8940\n",
      "29/47 [=================>............] - ETA: 1s - loss: 0.4242 - recall_1: 0.8473 - accuracy: 0.8966\n",
      "30/47 [==================>...........] - ETA: 1s - loss: 0.4154 - recall_1: 0.8496 - accuracy: 0.9000\n",
      "31/47 [==================>...........] - ETA: 0s - loss: 0.4075 - recall_1: 0.8369 - accuracy: 0.9022\n",
      "32/47 [===================>..........] - ETA: 0s - loss: 0.4011 - recall_1: 0.8389 - accuracy: 0.9045\n",
      "33/47 [====================>.........] - ETA: 0s - loss: 0.3921 - recall_1: 0.8387 - accuracy: 0.9072\n",
      "34/47 [====================>.........] - ETA: 0s - loss: 0.3879 - recall_1: 0.8375 - accuracy: 0.9090\n",
      "35/47 [=====================>........] - ETA: 0s - loss: 0.3805 - recall_1: 0.8323 - accuracy: 0.9112\n",
      "36/47 [=====================>........] - ETA: 0s - loss: 0.3731 - recall_1: 0.8304 - accuracy: 0.9132\n",
      "37/47 [======================>.......] - ETA: 0s - loss: 0.3674 - recall_1: 0.8276 - accuracy: 0.9149\n",
      "38/47 [=======================>......] - ETA: 0s - loss: 0.3607 - recall_1: 0.8278 - accuracy: 0.9167\n",
      "39/47 [=======================>......] - ETA: 0s - loss: 0.3552 - recall_1: 0.8261 - accuracy: 0.9182\n",
      "40/47 [========================>.....] - ETA: 0s - loss: 0.3499 - recall_1: 0.8235 - accuracy: 0.9201\n",
      "41/47 [=========================>....] - ETA: 0s - loss: 0.3449 - recall_1: 0.8235 - accuracy: 0.9216\n",
      "42/47 [=========================>....] - ETA: 0s - loss: 0.3391 - recall_1: 0.8254 - accuracy: 0.9235\n",
      "43/47 [==========================>...] - ETA: 0s - loss: 0.3351 - recall_1: 0.8263 - accuracy: 0.9249\n",
      "44/47 [===========================>..] - ETA: 0s - loss: 0.3300 - recall_1: 0.8281 - accuracy: 0.9261\n",
      "45/47 [===========================>..] - ETA: 0s - loss: 0.3262 - recall_1: 0.8191 - accuracy: 0.9271\n",
      "46/47 [============================>.] - ETA: 0s - loss: 0.3226 - recall_1: 0.8137 - accuracy: 0.9283\n",
      "47/47 [==============================] - ETA: 0s - loss: 0.3191 - recall_1: 0.8095 - accuracy: 0.9293\n",
      "47/47 [==============================] - 6s 81ms/step - loss: 0.3191 - recall_1: 0.8095 - accuracy: 0.9293 - val_loss: 0.1466 - val_recall_1: 0.0145 - val_accuracy: 0.9660\n",
      "\u001b[36mio1p7rsygu-algo-1-r4vhz |\u001b[0m /opt/ml/code/model_v1_vect.py:122: UserWarning: `Model.predict_generator` is deprecated and will be removed in a future version. Please use `Model.predict`, which supports generators.\n",
      "\u001b[36mio1p7rsygu-algo-1-r4vhz |\u001b[0m   yhat = model.predict_generator(X_test)\n",
      "\u001b[36mio1p7rsygu-algo-1-r4vhz |\u001b[0m Average malicious label in test (truth) = 0.03750000149011612\n",
      "\u001b[36mio1p7rsygu-algo-1-r4vhz |\u001b[0m Average malicious label in PREDICTIONS = 0.004000000189989805\n",
      "\u001b[36mio1p7rsygu-algo-1-r4vhz |\u001b[0m Accuracy of model: 0.967\n",
      "\u001b[36mio1p7rsygu-algo-1-r4vhz |\u001b[0m F1_score of model: 0.193\n",
      "\u001b[36mio1p7rsygu-algo-1-r4vhz |\u001b[0m auc_roc of model: 0.911\n",
      "\u001b[36mio1p7rsygu-algo-1-r4vhz |\u001b[0m recall of model: 0.107\n",
      "\u001b[36mio1p7rsygu-algo-1-r4vhz |\u001b[0m 2022-06-14 02:07:30.627899: W tensorflow/python/util/util.cc:368] Sets are not currently considered sequences, but this may change in the future, so consider avoiding using them.\n",
      "\u001b[36mio1p7rsygu-algo-1-r4vhz |\u001b[0m INFO:tensorflow:Assets written to: /opt/ml/model/0001/assets\n",
      "\u001b[36mio1p7rsygu-algo-1-r4vhz |\u001b[0m INFO:tensorflow:Assets written to: /opt/ml/model/0001/assets\n",
      "\u001b[36mio1p7rsygu-algo-1-r4vhz |\u001b[0m Saved to /opt/ml/model/0001\n",
      "\u001b[36mio1p7rsygu-algo-1-r4vhz |\u001b[0m 2022-06-14 02:07:33,376 sagemaker-training-toolkit INFO     Reporting training SUCCESS\n",
      "\u001b[36mio1p7rsygu-algo-1-r4vhz exited with code 0\n",
      "\u001b[0mAborting on container exit...\n",
      "===== Job Complete =====\n"
     ]
    }
   ],
   "source": [
    "tf_estimator.fit(TRAINING_PATH)"
   ]
  },
  {
   "cell_type": "code",
   "execution_count": 15,
   "id": "20d5069d",
   "metadata": {},
   "outputs": [
    {
     "data": {
      "text/plain": [
       "'s3://sagemaker-ap-southeast-1-527655063528/tensorflow-training-2022-06-14-02-06-55-844/model.tar.gz'"
      ]
     },
     "execution_count": 15,
     "metadata": {},
     "output_type": "execute_result"
    }
   ],
   "source": [
    "tf_estimator.model_data"
   ]
  },
  {
   "cell_type": "code",
   "execution_count": 21,
   "id": "e5d6d645",
   "metadata": {},
   "outputs": [
    {
     "name": "stdout",
     "output_type": "stream",
     "text": [
      "Copying: model.tar.gz\n",
      "from: sagemaker-ap-southeast-1-527655063528/tensorflow-training-2022-06-14-02-06-55-844/model.tar.gz\n",
      "to target bucket w filename: model/2022-06-14-02-08-34/model.tar.gz...\n",
      "\n",
      "Copying: output.tar.gz\n",
      "from: sagemaker-ap-southeast-1-527655063528/tensorflow-training-2022-06-14-02-06-55-844/output.tar.gz\n",
      "to target bucket w filename: model/2022-06-14-02-08-34/output.tar.gz...\n",
      "\n",
      "Copying: source/sourcedir.tar.gz\n",
      "from: sagemaker-ap-southeast-1-527655063528/tensorflow-training-2022-06-14-02-06-55-844/source/sourcedir.tar.gz\n",
      "to target bucket w filename: model/2022-06-14-02-08-34/source/sourcedir.tar.gz...\n",
      "\n"
     ]
    }
   ],
   "source": [
    "# Get the directory that sagemaker saved it in\n",
    "sm_model_bucket, sm_model_prefix = tf_estimator.model_data.replace(\"/model.tar.gz\", \"\").replace(\"s3://\", \"\").split(\"/\")\n",
    "\n",
    "# Get all the bucket items\n",
    "sm_model_objects = s3_session.list_objects(Bucket=sm_model_bucket, Prefix=sm_model_prefix)['Contents']\n",
    "\n",
    "for o in sm_model_objects:\n",
    "    file_name = o[\"Key\"].split(\"/\")\n",
    "    file_name.remove(sm_model_prefix)\n",
    "    file_name = \"/\".join(file_name)\n",
    "    copy_source = os.path.join(sm_model_bucket, o[\"Key\"])\n",
    "    target_key = os.path.join(\"model\", VERSION_TIMESTAMP, file_name)\n",
    "    print(f\"Copying: {file_name}\\nfrom: {copy_source}\\nto target bucket w filename: {target_key}...\\n\")\n",
    "    s3_session.copy_object(\n",
    "        CopySource=copy_source,\n",
    "        Bucket=BUCKET_NAME.replace(\"s3://\", \"\"),\n",
    "        Key=target_key\n",
    "    )"
   ]
  },
  {
   "cell_type": "code",
   "execution_count": 42,
   "id": "f6240ad2",
   "metadata": {},
   "outputs": [
    {
     "data": {
      "text/plain": [
       "{'ResponseMetadata': {'RequestId': 'HFCGDAAN0D3SBQCW',\n",
       "  'HostId': 'WHHEz1hVq4NAd+CToMrXNJ/nhfjv7CaYOfmCCx3mWIYgpNSDZZMvw4HiYdjEOwtyOQrX0jO/x80=',\n",
       "  'HTTPStatusCode': 200,\n",
       "  'HTTPHeaders': {'x-amz-id-2': 'WHHEz1hVq4NAd+CToMrXNJ/nhfjv7CaYOfmCCx3mWIYgpNSDZZMvw4HiYdjEOwtyOQrX0jO/x80=',\n",
       "   'x-amz-request-id': 'HFCGDAAN0D3SBQCW',\n",
       "   'date': 'Mon, 13 Jun 2022 23:45:15 GMT',\n",
       "   'content-type': 'application/xml',\n",
       "   'server': 'AmazonS3',\n",
       "   'content-length': '234'},\n",
       "  'RetryAttempts': 0},\n",
       " 'CopyObjectResult': {'ETag': '\"23890201322aa2e09c113dab05278f48\"',\n",
       "  'LastModified': datetime.datetime(2022, 6, 13, 23, 45, 15, tzinfo=tzlocal())}}"
      ]
     },
     "execution_count": 42,
     "metadata": {},
     "output_type": "execute_result"
    }
   ],
   "source": [
    "# s3_session.copy_object(\n",
    "#     CopySource=\"sagemaker-ap-southeast-1-527655063528/tensorflow-training-2022-06-13-23-34-29-069/model.tar.gz\",\n",
    "#     Bucket=\"ngwaf-test-bucket-2022-06-13\",\n",
    "#     Key=\"model/\" + VERSION_TIMESTAMP + \"/model.tar.gz\"\n",
    "# )"
   ]
  },
  {
   "cell_type": "code",
   "execution_count": 22,
   "id": "946ac3dc",
   "metadata": {},
   "outputs": [
    {
     "data": {
      "text/plain": [
       "'s3://ngwaf-test-bucket-2022-06-13/model/2022-06-14-02-08-34/model.tar.gz'"
      ]
     },
     "execution_count": 22,
     "metadata": {},
     "output_type": "execute_result"
    }
   ],
   "source": [
    "new_artifact_path = os.path.join(BUCKET_NAME, \"model\", VERSION_TIMESTAMP, \"model.tar.gz\")\n",
    "new_artifact_path"
   ]
  },
  {
   "cell_type": "markdown",
   "id": "57dfb47e",
   "metadata": {},
   "source": [
    "## Deployment"
   ]
  },
  {
   "cell_type": "code",
   "execution_count": 23,
   "id": "3f9919f8",
   "metadata": {
    "scrolled": false
   },
   "outputs": [
    {
     "data": {
      "text/plain": [
       "'ngwaf-test'"
      ]
     },
     "execution_count": 23,
     "metadata": {},
     "output_type": "execute_result"
    }
   ],
   "source": [
    "tf_endpoint_name = 'ngwaf-test'\n",
    "tf_endpoint_name"
   ]
  },
  {
   "cell_type": "code",
   "execution_count": 24,
   "id": "b7ab603b",
   "metadata": {},
   "outputs": [
    {
     "name": "stderr",
     "output_type": "stream",
     "text": [
      "update_endpoint is a no-op in sagemaker>=2.\n",
      "See: https://sagemaker.readthedocs.io/en/stable/v2.html for details.\n"
     ]
    },
    {
     "name": "stdout",
     "output_type": "stream",
     "text": [
      "----!"
     ]
    }
   ],
   "source": [
    "# For serving \n",
    "from sagemaker.tensorflow.model import TensorFlowModel\n",
    "\n",
    "tf_serving_model = TensorFlowModel(\n",
    "    model_data = new_artifact_path, #tf_estimator.model_data,\n",
    "    role=role,\n",
    "    framework_version=FRAMEWORK_VERSION,\n",
    "    sagemaker_session=sess\n",
    ")\n",
    "\n",
    "predictor = tf_serving_model.deploy(\n",
    "    initial_instance_count=1,\n",
    "    instance_type='ml.c5.large',\n",
    "    #endpoint_name=tf_endpoint_name\n",
    "    update_endpoint=tf_endpoint_name\n",
    ")\n",
    "\n",
    "## Old version\n",
    "# tf_predictor = tf_estimator.deploy(\n",
    "#     initial_instance_count=1,\n",
    "#     instance_type='ml.c5.large', # small one\n",
    "#     endpoint_name=tf_endpoint_name\n",
    "# )"
   ]
  },
  {
   "cell_type": "code",
   "execution_count": 25,
   "id": "8d6fe535",
   "metadata": {},
   "outputs": [
    {
     "data": {
      "text/plain": [
       "'tensorflow-inference-2022-06-14-02-09-37-647'"
      ]
     },
     "execution_count": 25,
     "metadata": {},
     "output_type": "execute_result"
    }
   ],
   "source": [
    "predictor.endpoint_name"
   ]
  },
  {
   "cell_type": "markdown",
   "id": "376d25c5",
   "metadata": {},
   "source": [
    "To test we need to convert the format"
   ]
  },
  {
   "cell_type": "code",
   "execution_count": 27,
   "id": "b6857faf",
   "metadata": {},
   "outputs": [],
   "source": [
    "import pandas as pd\n",
    "import joblib\n",
    "from utils_v1 import split_sentence\n",
    "from urllib.parse import unquote\n",
    "import numpy as np\n",
    "\n",
    "def prepare_input(dataset, x_raw_col='sentence', y_col='label'):\n",
    "    # Clean and split tokens\n",
    "    X_clean = dataset[x_raw_col].apply(lambda x: unquote(x))\n",
    "    X_clean = X_clean.apply(lambda x: split_sentence(x)) \n",
    "    # Need to join into sentence separated by space\n",
    "    X_clean = [\" \".join(row) for row in X_clean]\n",
    "    X_train = np.array([[string] for string in X_clean]) # each string needs to be in its own list\n",
    "    y_train = np.array(dataset[y_col])\n",
    "\n",
    "    return X_train, y_train\n",
    "\n",
    "test_data = pd.read_csv('pretrained/small_fwaf.csv')\n",
    "# vectorizer = joblib.load('pretrained/9_jun_1130am_vectorizer.pkl')\n",
    "\n",
    "X_test, y_test = prepare_input(test_data)"
   ]
  },
  {
   "cell_type": "code",
   "execution_count": 29,
   "id": "45ee3cb3",
   "metadata": {},
   "outputs": [
    {
     "data": {
      "text/plain": [
       "{'predictions': [[0.0804027915]]}"
      ]
     },
     "execution_count": 29,
     "metadata": {},
     "output_type": "execute_result"
    }
   ],
   "source": [
    "predictor.predict(['hello'])"
   ]
  },
  {
   "cell_type": "code",
   "execution_count": 30,
   "id": "9807b948",
   "metadata": {},
   "outputs": [
    {
     "data": {
      "text/plain": [
       "array([['103886'],\n",
       "       ['rcanimal'],\n",
       "       ['458010b88d9ce'],\n",
       "       ['cclogovs'],\n",
       "       ['using localization']], dtype='<U146')"
      ]
     },
     "execution_count": 30,
     "metadata": {},
     "output_type": "execute_result"
    }
   ],
   "source": [
    "X_test[0:5]"
   ]
  },
  {
   "cell_type": "code",
   "execution_count": 28,
   "id": "a65dfc2a",
   "metadata": {},
   "outputs": [],
   "source": [
    "predictions = predictor.predict(X_test[0:5])"
   ]
  },
  {
   "cell_type": "code",
   "execution_count": 31,
   "id": "0aa5d499",
   "metadata": {},
   "outputs": [
    {
     "data": {
      "text/plain": [
       "{'predictions': [[0.0807274282],\n",
       "  [0.0807274282],\n",
       "  [0.0807274282],\n",
       "  [0.0807274282],\n",
       "  [0.0806540251]]}"
      ]
     },
     "execution_count": 31,
     "metadata": {},
     "output_type": "execute_result"
    }
   ],
   "source": [
    "predictions"
   ]
  },
  {
   "cell_type": "markdown",
   "id": "d2b2056c",
   "metadata": {},
   "source": [
    "## Proceed to go to `lambda` and input the endpoint name"
   ]
  },
  {
   "cell_type": "code",
   "execution_count": 32,
   "id": "5f0223fd",
   "metadata": {},
   "outputs": [
    {
     "data": {
      "text/plain": [
       "'tensorflow-inference-2022-06-14-02-09-37-647'"
      ]
     },
     "execution_count": 32,
     "metadata": {},
     "output_type": "execute_result"
    }
   ],
   "source": [
    "predictor.endpoint_name"
   ]
  },
  {
   "cell_type": "markdown",
   "id": "5da68a41",
   "metadata": {},
   "source": [
    "## Go to API Gateway and\n",
    "1. Create new API: REST method\n",
    "2. Create new method -- POST\n",
    "    - Attach the lambda you created\n",
    "    - click on the `Use Lambda Proxy integration`. This option makes sure that the data that is sent to the API is then sent directly to the Lambda function with no processing. It also means that the return value must be a proper response object as it will also not be processed by API Gateway.\n",
    "3. Click on `Actions` --> Deploy API\n",
    "4.  sure to copy or write down the URL provided to invoke your newly created public API as this will be needed in the next step. This URL can be found at the top of the page, highlighted in blue next to the text Invoke URL."
   ]
  },
  {
   "cell_type": "markdown",
   "id": "57914f67",
   "metadata": {},
   "source": [
    "### Try to update the endpoint"
   ]
  },
  {
   "cell_type": "markdown",
   "id": "4618b96d",
   "metadata": {},
   "source": [
    "First you deploy the new model in its own endpoint"
   ]
  },
  {
   "cell_type": "code",
   "execution_count": 34,
   "id": "0f1accd5",
   "metadata": {},
   "outputs": [],
   "source": [
    "ALTERNATIVE_PATH = \"s3://sagemaker-ap-southeast-1-527655063528/tensorflow-training-2022-06-13-09-32-57-706/model.tar.gz\""
   ]
  },
  {
   "cell_type": "code",
   "execution_count": 44,
   "id": "904c369b",
   "metadata": {},
   "outputs": [
    {
     "name": "stderr",
     "output_type": "stream",
     "text": [
      "update_endpoint is a no-op in sagemaker>=2.\n",
      "See: https://sagemaker.readthedocs.io/en/stable/v2.html for details.\n"
     ]
    },
    {
     "name": "stdout",
     "output_type": "stream",
     "text": [
      "----!"
     ]
    },
    {
     "data": {
      "text/plain": [
       "<sagemaker.tensorflow.model.TensorFlowPredictor at 0x7f811df07dd8>"
      ]
     },
     "execution_count": 44,
     "metadata": {},
     "output_type": "execute_result"
    }
   ],
   "source": [
    "alternative_model = TensorFlowModel(\n",
    "    model_data = ALTERNATIVE_PATH,\n",
    "    role=role,\n",
    "    framework_version=FRAMEWORK_VERSION,\n",
    "    sagemaker_session=sess,\n",
    "    # name\n",
    ")\n",
    "\n",
    "alternative_model.deploy(\n",
    "    initial_instance_count=1,\n",
    "    instance_type='ml.c5.large',\n",
    "#     endpoint_name=predictor.endpoint_name,\n",
    "#     update_endpoint=True\n",
    ")"
   ]
  },
  {
   "cell_type": "code",
   "execution_count": 53,
   "id": "d1bb357e",
   "metadata": {},
   "outputs": [
    {
     "data": {
      "text/plain": [
       "'tensorflow-inference-2022-06-14-02-31-44-424'"
      ]
     },
     "execution_count": 53,
     "metadata": {},
     "output_type": "execute_result"
    }
   ],
   "source": [
    "alternative_model.name"
   ]
  },
  {
   "cell_type": "code",
   "execution_count": 56,
   "id": "56004bcc",
   "metadata": {},
   "outputs": [
    {
     "data": {
      "text/plain": [
       "'tensorflow-inference-2022-06-14-02-31-44-712'"
      ]
     },
     "execution_count": 56,
     "metadata": {},
     "output_type": "execute_result"
    }
   ],
   "source": [
    "# Different from the model\n",
    "alternative_model.endpoint_name"
   ]
  },
  {
   "cell_type": "markdown",
   "id": "8493f44a",
   "metadata": {},
   "source": [
    "Then you take the name and update the ORIGINAL ENDPOINT by using the `Predictor` class"
   ]
  },
  {
   "cell_type": "code",
   "execution_count": 38,
   "id": "01253cd6",
   "metadata": {},
   "outputs": [],
   "source": [
    "from sagemaker.predictor import Predictor\n",
    "\n",
    "p = Predictor(\n",
    "    endpoint_name = predictor.endpoint_name,\n",
    "    sagemaker_session=sess,\n",
    ")"
   ]
  },
  {
   "cell_type": "code",
   "execution_count": 52,
   "id": "375e9e2b",
   "metadata": {},
   "outputs": [
    {
     "name": "stdout",
     "output_type": "stream",
     "text": [
      "----!"
     ]
    }
   ],
   "source": [
    "p.update_endpoint(\n",
    "    model_name=alternative_model.name,\n",
    "    initial_instance_count=1,\n",
    "    instance_type='ml.c5.large',\n",
    ")"
   ]
  },
  {
   "cell_type": "markdown",
   "id": "e74a4a72",
   "metadata": {},
   "source": [
    "Clean up and delete your alternative model"
   ]
  },
  {
   "cell_type": "code",
   "execution_count": 57,
   "id": "a20e85cb",
   "metadata": {},
   "outputs": [],
   "source": [
    "sess.delete_endpoint(alternative_model.endpoint_name)"
   ]
  },
  {
   "cell_type": "markdown",
   "id": "8438af9e",
   "metadata": {},
   "source": [
    "# Clean up"
   ]
  },
  {
   "cell_type": "code",
   "execution_count": 59,
   "id": "a3fa8750",
   "metadata": {},
   "outputs": [
    {
     "data": {
      "text/plain": [
       "[{'Key': 'model/',\n",
       "  'LastModified': datetime.datetime(2022, 6, 13, 7, 48, 22, tzinfo=tzlocal()),\n",
       "  'ETag': '\"d41d8cd98f00b204e9800998ecf8427e\"',\n",
       "  'Size': 0,\n",
       "  'StorageClass': 'STANDARD',\n",
       "  'Owner': {'DisplayName': 'elizabethlimsm',\n",
       "   'ID': 'd0e809991d227e7fe2ff6889487fa9b0c8eab7a965643e922aec7c16d6fb981b'}},\n",
       " {'Key': 'model/2022-06-13-23-13-06/model.tar.gz',\n",
       "  'LastModified': datetime.datetime(2022, 6, 13, 23, 45, 15, tzinfo=tzlocal()),\n",
       "  'ETag': '\"23890201322aa2e09c113dab05278f48\"',\n",
       "  'Size': 21414733,\n",
       "  'StorageClass': 'STANDARD',\n",
       "  'Owner': {'DisplayName': 'elizabethlimsm',\n",
       "   'ID': 'd0e809991d227e7fe2ff6889487fa9b0c8eab7a965643e922aec7c16d6fb981b'}},\n",
       " {'Key': 'model/2022-06-13-23-13-06/output.tar.gz',\n",
       "  'LastModified': datetime.datetime(2022, 6, 14, 0, 26, 31, tzinfo=tzlocal()),\n",
       "  'ETag': '\"7c5da5f7de713fcd1da5195c5ba798ac\"',\n",
       "  'Size': 150,\n",
       "  'StorageClass': 'STANDARD',\n",
       "  'Owner': {'DisplayName': 'elizabethlimsm',\n",
       "   'ID': 'd0e809991d227e7fe2ff6889487fa9b0c8eab7a965643e922aec7c16d6fb981b'}},\n",
       " {'Key': 'model/2022-06-13-23-13-06/source/sourcedir.tar.gz',\n",
       "  'LastModified': datetime.datetime(2022, 6, 14, 0, 26, 31, tzinfo=tzlocal()),\n",
       "  'ETag': '\"2c4c99b1461af55f2b20ddf5f91d0651\"',\n",
       "  'Size': 3991,\n",
       "  'StorageClass': 'STANDARD',\n",
       "  'Owner': {'DisplayName': 'elizabethlimsm',\n",
       "   'ID': 'd0e809991d227e7fe2ff6889487fa9b0c8eab7a965643e922aec7c16d6fb981b'}},\n",
       " {'Key': 'model/2022-06-14-02-08-34/model.tar.gz',\n",
       "  'LastModified': datetime.datetime(2022, 6, 14, 2, 8, 40, tzinfo=tzlocal()),\n",
       "  'ETag': '\"826ba57d0eca7e4324f7f2579ccc12c2\"',\n",
       "  'Size': 21445066,\n",
       "  'StorageClass': 'STANDARD',\n",
       "  'Owner': {'DisplayName': 'elizabethlimsm',\n",
       "   'ID': 'd0e809991d227e7fe2ff6889487fa9b0c8eab7a965643e922aec7c16d6fb981b'}},\n",
       " {'Key': 'model/2022-06-14-02-08-34/output.tar.gz',\n",
       "  'LastModified': datetime.datetime(2022, 6, 14, 2, 8, 40, tzinfo=tzlocal()),\n",
       "  'ETag': '\"f3b6e4bcd7aa3acd9cfeaeae8c11cfcc\"',\n",
       "  'Size': 149,\n",
       "  'StorageClass': 'STANDARD',\n",
       "  'Owner': {'DisplayName': 'elizabethlimsm',\n",
       "   'ID': 'd0e809991d227e7fe2ff6889487fa9b0c8eab7a965643e922aec7c16d6fb981b'}},\n",
       " {'Key': 'model/2022-06-14-02-08-34/source/sourcedir.tar.gz',\n",
       "  'LastModified': datetime.datetime(2022, 6, 14, 2, 8, 41, tzinfo=tzlocal()),\n",
       "  'ETag': '\"c0a5805414d1bd8b96e6de5d38d36403\"',\n",
       "  'Size': 3981,\n",
       "  'StorageClass': 'STANDARD',\n",
       "  'Owner': {'DisplayName': 'elizabethlimsm',\n",
       "   'ID': 'd0e809991d227e7fe2ff6889487fa9b0c8eab7a965643e922aec7c16d6fb981b'}}]"
      ]
     },
     "execution_count": 59,
     "metadata": {},
     "output_type": "execute_result"
    }
   ],
   "source": [
    "# # Delete the objects in the _tmp_train bucket\n",
    "# TMP_DIR = \"_tmp_train\"\n",
    "# tmp_items = s3_session.list_objects(Bucket=BUCKET_NAME.replace(\"s3://\", \"\"), Prefix=TMP_DIR)['Contents']\n",
    "\n",
    "# for item in tmp_items:\n",
    "#     if item['Key'] == f\"{TMP_DIR}/\":\n",
    "#         pass # ignore the common prefix\n",
    "#     s3_session.delete_object(\n",
    "#         Bucket=BUCKET_NAME.replace(\"s3://\", \"\"),\n",
    "#         Key=item['Key']\n",
    "#     )\n",
    "#     print(f\"Deleted {item[\"Key\"]}\")"
   ]
  },
  {
   "cell_type": "code",
   "execution_count": 70,
   "id": "b084cbf1",
   "metadata": {},
   "outputs": [
    {
     "data": {
      "text/plain": [
       "{'payload': 'http://maliciousurl.com/hellohellohellodsn?98328=sdjbdkasds'}"
      ]
     },
     "execution_count": 70,
     "metadata": {},
     "output_type": "execute_result"
    }
   ],
   "source": [
    "json.loads(\"{\\n  \\\"payload\\\": \\\"http://maliciousurl.com/hellohellohellodsn?98328=sdjbdkasds\\\"\\n}\")"
   ]
  },
  {
   "cell_type": "markdown",
   "id": "62555f06",
   "metadata": {},
   "source": [
    "## Delete main endpoint if you want to"
   ]
  },
  {
   "cell_type": "code",
   "execution_count": 38,
   "id": "8c4884cb",
   "metadata": {},
   "outputs": [],
   "source": [
    "# predictor.delete_endpoint()"
   ]
  },
  {
   "cell_type": "code",
   "execution_count": null,
   "id": "c1ae6b9e",
   "metadata": {},
   "outputs": [],
   "source": []
  }
 ],
 "metadata": {
  "kernelspec": {
   "display_name": "conda_tensorflow2_p36",
   "language": "python",
   "name": "conda_tensorflow2_p36"
  },
  "language_info": {
   "codemirror_mode": {
    "name": "ipython",
    "version": 3
   },
   "file_extension": ".py",
   "mimetype": "text/x-python",
   "name": "python",
   "nbconvert_exporter": "python",
   "pygments_lexer": "ipython3",
   "version": "3.6.13"
  }
 },
 "nbformat": 4,
 "nbformat_minor": 5
}
