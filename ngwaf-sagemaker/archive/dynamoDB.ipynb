{
 "cells": [
  {
   "cell_type": "code",
   "execution_count": 1,
   "id": "53be4f1f",
   "metadata": {},
   "outputs": [],
   "source": [
    "import boto3\n",
    "import time"
   ]
  },
  {
   "cell_type": "code",
   "execution_count": 2,
   "id": "fbaf3ef9",
   "metadata": {
    "scrolled": true
   },
   "outputs": [
    {
     "name": "stderr",
     "output_type": "stream",
     "text": [
      "/home/ec2-user/anaconda3/envs/tensorflow2_p36/lib/python3.6/site-packages/boto3/compat.py:88: PythonDeprecationWarning: Boto3 will no longer support Python 3.6 starting May 30, 2022. To continue receiving service updates, bug fixes, and security updates please upgrade to Python 3.7 or later. More information can be found here: https://aws.amazon.com/blogs/developer/python-support-policy-updates-for-aws-sdks-and-tools/\n",
      "  warnings.warn(warning, PythonDeprecationWarning)\n"
     ]
    }
   ],
   "source": [
    "db = boto3.client(\"dynamodb\")"
   ]
  },
  {
   "cell_type": "code",
   "execution_count": 12,
   "id": "ed3c70c7",
   "metadata": {},
   "outputs": [
    {
     "data": {
      "text/plain": [
       "'job-2022-06-15-00-10-03'"
      ]
     },
     "execution_count": 12,
     "metadata": {},
     "output_type": "execute_result"
    }
   ],
   "source": [
    "test_key = \"job-\" + time.strftime(\"%Y-%m-%d-%H-%M-%S\", time.gmtime())\n",
    "test_key"
   ]
  },
  {
   "cell_type": "code",
   "execution_count": 13,
   "id": "8e6e3734",
   "metadata": {},
   "outputs": [],
   "source": [
    "job_info = {\n",
    "    \"job_key\": {\"S\": test_key},\n",
    "    \"status\": {\"S\": \"training\"}\n",
    "}"
   ]
  },
  {
   "cell_type": "code",
   "execution_count": 14,
   "id": "8ca0ba2e",
   "metadata": {},
   "outputs": [],
   "source": [
    "response = db.put_item(TableName=\"ngwaf-test\", Item=job_info)"
   ]
  },
  {
   "cell_type": "code",
   "execution_count": 15,
   "id": "7e895249",
   "metadata": {},
   "outputs": [
    {
     "data": {
      "text/plain": [
       "{'Item': {'job_key': {'S': 'job-2022-06-15-00-10-03'},\n",
       "  'status': {'S': 'training'}},\n",
       " 'ResponseMetadata': {'RequestId': 'MM68U7VBCBBEAG5BNRAT15R5IFVV4KQNSO5AEMVJF66Q9ASUAAJG',\n",
       "  'HTTPStatusCode': 200,\n",
       "  'HTTPHeaders': {'server': 'Server',\n",
       "   'date': 'Wed, 15 Jun 2022 00:10:14 GMT',\n",
       "   'content-type': 'application/x-amz-json-1.0',\n",
       "   'content-length': '78',\n",
       "   'connection': 'keep-alive',\n",
       "   'x-amzn-requestid': 'MM68U7VBCBBEAG5BNRAT15R5IFVV4KQNSO5AEMVJF66Q9ASUAAJG',\n",
       "   'x-amz-crc32': '3710360176'},\n",
       "  'RetryAttempts': 0}}"
      ]
     },
     "execution_count": 15,
     "metadata": {},
     "output_type": "execute_result"
    }
   ],
   "source": [
    "db.get_item(TableName=\"ngwaf-test\", Key={\"job_key\": {\"S\": test_key}})"
   ]
  },
  {
   "cell_type": "code",
   "execution_count": 16,
   "id": "d3eaead8",
   "metadata": {},
   "outputs": [
    {
     "data": {
      "text/plain": [
       "{'ResponseMetadata': {'RequestId': 'TM6NUV50APSB2MO0UAKVDLTQGJVV4KQNSO5AEMVJF66Q9ASUAAJG',\n",
       "  'HTTPStatusCode': 200,\n",
       "  'HTTPHeaders': {'server': 'Server',\n",
       "   'date': 'Wed, 15 Jun 2022 00:10:21 GMT',\n",
       "   'content-type': 'application/x-amz-json-1.0',\n",
       "   'content-length': '2',\n",
       "   'connection': 'keep-alive',\n",
       "   'x-amzn-requestid': 'TM6NUV50APSB2MO0UAKVDLTQGJVV4KQNSO5AEMVJF66Q9ASUAAJG',\n",
       "   'x-amz-crc32': '2745614147'},\n",
       "  'RetryAttempts': 0}}"
      ]
     },
     "execution_count": 16,
     "metadata": {},
     "output_type": "execute_result"
    }
   ],
   "source": [
    "db.update_item(\n",
    "    TableName=\"ngwaf-test\",\n",
    "    Key={\"job_key\": {\"S\": test_key}},\n",
    "    AttributeUpdates={\n",
    "        \"status\": {\"Value\": {\"S\": \"completed\"},\n",
    "                   \"Action\": \"PUT\"},\n",
    "        \"training_completion_time\": {\"Value\": {\"S\": time.strftime(\"%Y-%m-%d-%H-%M-%S\", time.gmtime())},\n",
    "                                     \"Action\": \"PUT\"},\n",
    "        \"training_duration_sec\": {\"Value\": {\"N\": \"29348\"},\n",
    "                                  \"Action\": \"PUT\"},\n",
    "        \"model_name\": {\"Value\": {\"S\": \"tensorflow-123\"},\n",
    "                       \"Action\": \"PUT\"},\n",
    "        \"diagnostics_s3_url\": {\"Value\": {\"S\": \"bucket.aws.com/tensorflow-123/diagnostics.csv\"},\n",
    "                               \"Action\": \"PUT\"},\n",
    "    }\n",
    ")"
   ]
  },
  {
   "cell_type": "code",
   "execution_count": 17,
   "id": "322470a6",
   "metadata": {},
   "outputs": [
    {
     "data": {
      "text/plain": [
       "{'Item': {'training_duration_sec': {'N': '29348'},\n",
       "  'diagnostics_s3_url': {'S': 'bucket.aws.com/tensorflow-123/diagnostics.csv'},\n",
       "  'status': {'S': 'completed'},\n",
       "  'training_completion_time': {'S': '2022-06-15-00-10-21'},\n",
       "  'model_name': {'S': 'tensorflow-123'},\n",
       "  'job_key': {'S': 'job-2022-06-15-00-10-03'}},\n",
       " 'ResponseMetadata': {'RequestId': '7B1LAMQ9H70BRA68KNQ4Q9I3P3VV4KQNSO5AEMVJF66Q9ASUAAJG',\n",
       "  'HTTPStatusCode': 200,\n",
       "  'HTTPHeaders': {'server': 'Server',\n",
       "   'date': 'Wed, 15 Jun 2022 00:10:26 GMT',\n",
       "   'content-type': 'application/x-amz-json-1.0',\n",
       "   'content-length': '283',\n",
       "   'connection': 'keep-alive',\n",
       "   'x-amzn-requestid': '7B1LAMQ9H70BRA68KNQ4Q9I3P3VV4KQNSO5AEMVJF66Q9ASUAAJG',\n",
       "   'x-amz-crc32': '1232253849'},\n",
       "  'RetryAttempts': 0}}"
      ]
     },
     "execution_count": 17,
     "metadata": {},
     "output_type": "execute_result"
    }
   ],
   "source": [
    "db.get_item(TableName=\"ngwaf-test\", Key={\"job_key\": {\"S\": test_key}})"
   ]
  },
  {
   "cell_type": "markdown",
   "id": "2e794c80",
   "metadata": {},
   "source": [
    "### Pipeline Status"
   ]
  },
  {
   "cell_type": "code",
   "execution_count": 39,
   "id": "7e140166",
   "metadata": {},
   "outputs": [
    {
     "data": {
      "text/plain": [
       "{'ResponseMetadata': {'RequestId': '28F9GFJNSHG2TSIQE5GE8FCSCNVV4KQNSO5AEMVJF66Q9ASUAAJG',\n",
       "  'HTTPStatusCode': 200,\n",
       "  'HTTPHeaders': {'server': 'Server',\n",
       "   'date': 'Wed, 15 Jun 2022 00:51:58 GMT',\n",
       "   'content-type': 'application/x-amz-json-1.0',\n",
       "   'content-length': '2',\n",
       "   'connection': 'keep-alive',\n",
       "   'x-amzn-requestid': '28F9GFJNSHG2TSIQE5GE8FCSCNVV4KQNSO5AEMVJF66Q9ASUAAJG',\n",
       "   'x-amz-crc32': '2745614147'},\n",
       "  'RetryAttempts': 0}}"
      ]
     },
     "execution_count": 39,
     "metadata": {},
     "output_type": "execute_result"
    }
   ],
   "source": [
    "db.put_item(TableName=\"ngwaf-test\", Item={\n",
    "    \"job_key\": {\"S\": \"_pipeline_status\"},\n",
    "    \"pipeline_available\": {\"BOOL\": True},\n",
    "    \"pipeline_job_key\": {\"S\": \"\"}\n",
    "})"
   ]
  },
  {
   "cell_type": "code",
   "execution_count": 38,
   "id": "646e192d",
   "metadata": {},
   "outputs": [
    {
     "data": {
      "text/plain": [
       "''"
      ]
     },
     "execution_count": 38,
     "metadata": {},
     "output_type": "execute_result"
    }
   ],
   "source": [
    "db.get_item(TableName=\"ngwaf-test\", Key={\"job_key\":{\"S\":\"_pipeline_status\"}})[\"Item\"][\"pipeline_job_key\"][\"S\"]"
   ]
  },
  {
   "cell_type": "code",
   "execution_count": 31,
   "id": "d031093f",
   "metadata": {},
   "outputs": [
    {
     "data": {
      "text/plain": [
       "51.481282"
      ]
     },
     "execution_count": 31,
     "metadata": {},
     "output_type": "execute_result"
    }
   ],
   "source": [
    "(end - start).total_seconds()"
   ]
  },
  {
   "cell_type": "code",
   "execution_count": null,
   "id": "69b9aac7",
   "metadata": {},
   "outputs": [],
   "source": []
  }
 ],
 "metadata": {
  "kernelspec": {
   "display_name": "conda_tensorflow2_p36",
   "language": "python",
   "name": "conda_tensorflow2_p36"
  },
  "language_info": {
   "codemirror_mode": {
    "name": "ipython",
    "version": 3
   },
   "file_extension": ".py",
   "mimetype": "text/x-python",
   "name": "python",
   "nbconvert_exporter": "python",
   "pygments_lexer": "ipython3",
   "version": "3.6.13"
  }
 },
 "nbformat": 4,
 "nbformat_minor": 5
}
