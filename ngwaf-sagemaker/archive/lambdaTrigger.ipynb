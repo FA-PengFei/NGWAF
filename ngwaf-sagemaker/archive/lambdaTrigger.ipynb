{
 "cells": [
  {
   "cell_type": "markdown",
   "id": "aee3a49e",
   "metadata": {},
   "source": [
    "Test out code for lambda trigger"
   ]
  },
  {
   "cell_type": "code",
   "execution_count": 1,
   "id": "35c50455",
   "metadata": {},
   "outputs": [],
   "source": [
    "import boto3\n",
    "import time"
   ]
  },
  {
   "cell_type": "code",
   "execution_count": 2,
   "id": "4314f945",
   "metadata": {},
   "outputs": [],
   "source": [
    "TABLE_NAME = \"ngwaf-test\"\n",
    "BUCKET_NAME = \"ngwaf-test-bucket-2022-06-13\"\n",
    "NOTEBOOK_NAME = \"ngwaf-test-v1\""
   ]
  },
  {
   "cell_type": "code",
   "execution_count": 7,
   "id": "ce9c5801",
   "metadata": {},
   "outputs": [],
   "source": [
    "def trigger(target_s3_file=None):\n",
    "    db = boto3.client(\"dynamodb\")\n",
    "    s3 = boto3.client(\"s3\")\n",
    "    sm = boto3.client(\"sagemaker\")\n",
    "    \n",
    "    # Check pipeline status\n",
    "    pipeline_available = db.get_item(\n",
    "        TableName=TABLE_NAME,\n",
    "        Key={\"job_key\": {\"S\": \"_pipeline_status\"}}\n",
    "    )[\"Item\"][\"pipeline_available\"][\"BOOL\"]\n",
    "    \n",
    "    if not pipeline_available:\n",
    "        return {\"StatusCode\": 400, \"Message\": \"Training job currently in progress\"}\n",
    "    \n",
    "    # If pipeline available\n",
    "    new_key = \"job-\" + time.strftime(\"%Y-%m-%d-%H-%M-%S\", time.gmtime())\n",
    "#     # Move dataset\n",
    "#     s3.copy_object(\n",
    "#         CopySource=target_s3_file,\n",
    "#         Bucket=BUCKET_NAME,\n",
    "#         Key=\"_tmp_train/data.csv\"\n",
    "#     )\n",
    "    \n",
    "    # Add new job\n",
    "    db.put_item(\n",
    "        TableName=\"ngwaf-test\",\n",
    "        Item={\n",
    "            \"job_key\": {\"S\": new_key},\n",
    "            \"status\": {\"S\": \"training\"}\n",
    "        }\n",
    "    )\n",
    "    \n",
    "    # Update status to busy\n",
    "    db.update_item(\n",
    "        TableName=TABLE_NAME,\n",
    "        Key={\"job_key\": {\"S\": \"_pipeline_status\"}},\n",
    "        AttributeUpdates={\n",
    "            \"pipeline_available\": {\"Value\": {\"BOOL\": False}, \"Action\": \"PUT\"},\n",
    "            \"pipeline_job_key\": {\"Value\": {\"S\": new_key}, \"Action\": \"PUT\"}\n",
    "        }\n",
    "    )\n",
    "    \n",
    "    # Start notebook\n",
    "#     sm.start_notebook_instance(NotebookInstanceName=NOTEBOOK_NAME)\n",
    "    \n",
    "    return {\"StatusCode\": 200, \"Message\": \"Training has kicked off\"}"
   ]
  },
  {
   "cell_type": "code",
   "execution_count": 8,
   "id": "a5309dc3",
   "metadata": {},
   "outputs": [
    {
     "data": {
      "text/plain": [
       "{'StatusCode': 200, 'Message': 'Training has kicked off'}"
      ]
     },
     "execution_count": 8,
     "metadata": {},
     "output_type": "execute_result"
    }
   ],
   "source": [
    "trigger()"
   ]
  },
  {
   "cell_type": "code",
   "execution_count": null,
   "id": "6b1be4fd",
   "metadata": {},
   "outputs": [],
   "source": []
  }
 ],
 "metadata": {
  "kernelspec": {
   "display_name": "conda_python3",
   "language": "python",
   "name": "conda_python3"
  },
  "language_info": {
   "codemirror_mode": {
    "name": "ipython",
    "version": 3
   },
   "file_extension": ".py",
   "mimetype": "text/x-python",
   "name": "python",
   "nbconvert_exporter": "python",
   "pygments_lexer": "ipython3",
   "version": "3.8.12"
  }
 },
 "nbformat": 4,
 "nbformat_minor": 5
}
