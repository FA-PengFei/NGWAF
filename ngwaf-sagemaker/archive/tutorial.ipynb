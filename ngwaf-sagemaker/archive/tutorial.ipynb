{
 "cells": [
  {
   "cell_type": "markdown",
   "metadata": {},
   "source": [
    "https://github.com/aws/amazon-sagemaker-examples/blob/main/sagemaker-python-sdk/tensorflow_script_mode_training_and_serving/tensorflow_script_mode_training_and_serving.ipynb"
   ]
  },
  {
   "cell_type": "code",
   "execution_count": 1,
   "metadata": {},
   "outputs": [],
   "source": [
    "import os\n",
    "import sagemaker\n",
    "from sagemaker import get_execution_role\n",
    "\n",
    "sagemaker_session = sagemaker.Session()\n",
    "\n",
    "role = get_execution_role()\n",
    "region = sagemaker_session.boto_session.region_name"
   ]
  },
  {
   "cell_type": "code",
   "execution_count": 3,
   "metadata": {},
   "outputs": [
    {
     "data": {
      "text/plain": [
       "'s3://sagemaker-sample-data-ap-southeast-1/tensorflow/mnist'"
      ]
     },
     "execution_count": 3,
     "metadata": {},
     "output_type": "execute_result"
    }
   ],
   "source": [
    "training_data_uri = \"s3://sagemaker-sample-data-{}/tensorflow/mnist\".format(region)\n",
    "training_data_uri"
   ]
  },
  {
   "cell_type": "code",
   "execution_count": 16,
   "metadata": {},
   "outputs": [],
   "source": [
    "s3_directory = 's3://sagemaker-ap-southeast-1-527655063528/uploads'"
   ]
  },
  {
   "cell_type": "code",
   "execution_count": 22,
   "metadata": {},
   "outputs": [],
   "source": [
    "from sagemaker.tensorflow import TensorFlow\n",
    "\n",
    "mnist_estimator = TensorFlow(\n",
    "    entry_point=\"mnist.py\",\n",
    "    role=role,\n",
    "    instance_count=1,\n",
    "    instance_type=\"local\",\n",
    "    #instance_type=\"ml.p3.2xlarge\",\n",
    "    framework_version=\"1.15.2\",\n",
    "    py_version=\"py3\",\n",
    "    distribution={\"parameter_server\": {\"enabled\": True}},\n",
    ")"
   ]
  },
  {
   "cell_type": "code",
   "execution_count": 23,
   "metadata": {
    "scrolled": false
   },
   "outputs": [
    {
     "name": "stdout",
     "output_type": "stream",
     "text": [
      "Creating 9kod1guw4l-algo-1-og3wc ... \n",
      "Creating 9kod1guw4l-algo-1-og3wc ... done\n",
      "Attaching to 9kod1guw4l-algo-1-og3wc\n",
      "\u001b[36m9kod1guw4l-algo-1-og3wc |\u001b[0m WARNING:tensorflow:From /usr/local/lib/python3.6/dist-packages/tensorflow_core/__init__.py:1473: The name tf.estimator.inputs is deprecated. Please use tf.compat.v1.estimator.inputs instead.\n",
      "\u001b[36m9kod1guw4l-algo-1-og3wc |\u001b[0m \n",
      "\u001b[36m9kod1guw4l-algo-1-og3wc |\u001b[0m 2022-06-10 07:13:13,146 sagemaker-containers INFO     Imported framework sagemaker_tensorflow_container.training\n",
      "\u001b[36m9kod1guw4l-algo-1-og3wc |\u001b[0m 2022-06-10 07:13:13,153 sagemaker-containers INFO     No GPUs detected (normal if no gpus installed)\n",
      "\u001b[36m9kod1guw4l-algo-1-og3wc |\u001b[0m 2022-06-10 07:13:13,388 sagemaker-containers INFO     No GPUs detected (normal if no gpus installed)\n",
      "\u001b[36m9kod1guw4l-algo-1-og3wc |\u001b[0m 2022-06-10 07:13:13,409 sagemaker-containers INFO     No GPUs detected (normal if no gpus installed)\n",
      "\u001b[36m9kod1guw4l-algo-1-og3wc |\u001b[0m 2022-06-10 07:13:13,430 sagemaker-containers INFO     No GPUs detected (normal if no gpus installed)\n",
      "\u001b[36m9kod1guw4l-algo-1-og3wc |\u001b[0m 2022-06-10 07:13:13,442 sagemaker-containers INFO     Invoking user script\n",
      "\u001b[36m9kod1guw4l-algo-1-og3wc |\u001b[0m \n",
      "\u001b[36m9kod1guw4l-algo-1-og3wc |\u001b[0m Training Env:\n",
      "\u001b[36m9kod1guw4l-algo-1-og3wc |\u001b[0m \n",
      "\u001b[36m9kod1guw4l-algo-1-og3wc |\u001b[0m {\n",
      "\u001b[36m9kod1guw4l-algo-1-og3wc |\u001b[0m     \"additional_framework_parameters\": {\n",
      "\u001b[36m9kod1guw4l-algo-1-og3wc |\u001b[0m         \"sagemaker_parameter_server_enabled\": true\n",
      "\u001b[36m9kod1guw4l-algo-1-og3wc |\u001b[0m     },\n",
      "\u001b[36m9kod1guw4l-algo-1-og3wc |\u001b[0m     \"channel_input_dirs\": {\n",
      "\u001b[36m9kod1guw4l-algo-1-og3wc |\u001b[0m         \"training\": \"/opt/ml/input/data/training\"\n",
      "\u001b[36m9kod1guw4l-algo-1-og3wc |\u001b[0m     },\n",
      "\u001b[36m9kod1guw4l-algo-1-og3wc |\u001b[0m     \"current_host\": \"algo-1-og3wc\",\n",
      "\u001b[36m9kod1guw4l-algo-1-og3wc |\u001b[0m     \"framework_module\": \"sagemaker_tensorflow_container.training:main\",\n",
      "\u001b[36m9kod1guw4l-algo-1-og3wc |\u001b[0m     \"hosts\": [\n",
      "\u001b[36m9kod1guw4l-algo-1-og3wc |\u001b[0m         \"algo-1-og3wc\"\n",
      "\u001b[36m9kod1guw4l-algo-1-og3wc |\u001b[0m     ],\n",
      "\u001b[36m9kod1guw4l-algo-1-og3wc |\u001b[0m     \"hyperparameters\": {\n",
      "\u001b[36m9kod1guw4l-algo-1-og3wc |\u001b[0m         \"model_dir\": \"s3://sagemaker-ap-southeast-1-527655063528/tensorflow-training-2022-06-10-07-13-06-681/model\"\n",
      "\u001b[36m9kod1guw4l-algo-1-og3wc |\u001b[0m     },\n",
      "\u001b[36m9kod1guw4l-algo-1-og3wc |\u001b[0m     \"input_config_dir\": \"/opt/ml/input/config\",\n",
      "\u001b[36m9kod1guw4l-algo-1-og3wc |\u001b[0m     \"input_data_config\": {\n",
      "\u001b[36m9kod1guw4l-algo-1-og3wc |\u001b[0m         \"training\": {\n",
      "\u001b[36m9kod1guw4l-algo-1-og3wc |\u001b[0m             \"TrainingInputMode\": \"File\"\n",
      "\u001b[36m9kod1guw4l-algo-1-og3wc |\u001b[0m         }\n",
      "\u001b[36m9kod1guw4l-algo-1-og3wc |\u001b[0m     },\n",
      "\u001b[36m9kod1guw4l-algo-1-og3wc |\u001b[0m     \"input_dir\": \"/opt/ml/input\",\n",
      "\u001b[36m9kod1guw4l-algo-1-og3wc |\u001b[0m     \"is_master\": true,\n",
      "\u001b[36m9kod1guw4l-algo-1-og3wc |\u001b[0m     \"job_name\": \"tensorflow-training-2022-06-10-07-13-06-681\",\n",
      "\u001b[36m9kod1guw4l-algo-1-og3wc |\u001b[0m     \"log_level\": 20,\n",
      "\u001b[36m9kod1guw4l-algo-1-og3wc |\u001b[0m     \"master_hostname\": \"algo-1-og3wc\",\n",
      "\u001b[36m9kod1guw4l-algo-1-og3wc |\u001b[0m     \"model_dir\": \"/opt/ml/model\",\n",
      "\u001b[36m9kod1guw4l-algo-1-og3wc |\u001b[0m     \"module_dir\": \"s3://sagemaker-ap-southeast-1-527655063528/tensorflow-training-2022-06-10-07-13-06-681/source/sourcedir.tar.gz\",\n",
      "\u001b[36m9kod1guw4l-algo-1-og3wc |\u001b[0m     \"module_name\": \"mnist\",\n",
      "\u001b[36m9kod1guw4l-algo-1-og3wc |\u001b[0m     \"network_interface_name\": \"eth0\",\n",
      "\u001b[36m9kod1guw4l-algo-1-og3wc |\u001b[0m     \"num_cpus\": 2,\n",
      "\u001b[36m9kod1guw4l-algo-1-og3wc |\u001b[0m     \"num_gpus\": 0,\n",
      "\u001b[36m9kod1guw4l-algo-1-og3wc |\u001b[0m     \"output_data_dir\": \"/opt/ml/output/data\",\n",
      "\u001b[36m9kod1guw4l-algo-1-og3wc |\u001b[0m     \"output_dir\": \"/opt/ml/output\",\n",
      "\u001b[36m9kod1guw4l-algo-1-og3wc |\u001b[0m     \"output_intermediate_dir\": \"/opt/ml/output/intermediate\",\n",
      "\u001b[36m9kod1guw4l-algo-1-og3wc |\u001b[0m     \"resource_config\": {\n",
      "\u001b[36m9kod1guw4l-algo-1-og3wc |\u001b[0m         \"current_host\": \"algo-1-og3wc\",\n",
      "\u001b[36m9kod1guw4l-algo-1-og3wc |\u001b[0m         \"hosts\": [\n",
      "\u001b[36m9kod1guw4l-algo-1-og3wc |\u001b[0m             \"algo-1-og3wc\"\n",
      "\u001b[36m9kod1guw4l-algo-1-og3wc |\u001b[0m         ]\n",
      "\u001b[36m9kod1guw4l-algo-1-og3wc |\u001b[0m     },\n",
      "\u001b[36m9kod1guw4l-algo-1-og3wc |\u001b[0m     \"user_entry_point\": \"mnist.py\"\n",
      "\u001b[36m9kod1guw4l-algo-1-og3wc |\u001b[0m }\n",
      "\u001b[36m9kod1guw4l-algo-1-og3wc |\u001b[0m \n",
      "\u001b[36m9kod1guw4l-algo-1-og3wc |\u001b[0m Environment variables:\n",
      "\u001b[36m9kod1guw4l-algo-1-og3wc |\u001b[0m \n",
      "\u001b[36m9kod1guw4l-algo-1-og3wc |\u001b[0m SM_HOSTS=[\"algo-1-og3wc\"]\n",
      "\u001b[36m9kod1guw4l-algo-1-og3wc |\u001b[0m SM_NETWORK_INTERFACE_NAME=eth0\n",
      "\u001b[36m9kod1guw4l-algo-1-og3wc |\u001b[0m SM_HPS={\"model_dir\":\"s3://sagemaker-ap-southeast-1-527655063528/tensorflow-training-2022-06-10-07-13-06-681/model\"}\n",
      "\u001b[36m9kod1guw4l-algo-1-og3wc |\u001b[0m SM_USER_ENTRY_POINT=mnist.py\n",
      "\u001b[36m9kod1guw4l-algo-1-og3wc |\u001b[0m SM_FRAMEWORK_PARAMS={\"sagemaker_parameter_server_enabled\":true}\n",
      "\u001b[36m9kod1guw4l-algo-1-og3wc |\u001b[0m SM_RESOURCE_CONFIG={\"current_host\":\"algo-1-og3wc\",\"hosts\":[\"algo-1-og3wc\"]}\n",
      "\u001b[36m9kod1guw4l-algo-1-og3wc |\u001b[0m SM_INPUT_DATA_CONFIG={\"training\":{\"TrainingInputMode\":\"File\"}}\n",
      "\u001b[36m9kod1guw4l-algo-1-og3wc |\u001b[0m SM_OUTPUT_DATA_DIR=/opt/ml/output/data\n",
      "\u001b[36m9kod1guw4l-algo-1-og3wc |\u001b[0m SM_CHANNELS=[\"training\"]\n",
      "\u001b[36m9kod1guw4l-algo-1-og3wc |\u001b[0m SM_CURRENT_HOST=algo-1-og3wc\n",
      "\u001b[36m9kod1guw4l-algo-1-og3wc |\u001b[0m SM_MODULE_NAME=mnist\n",
      "\u001b[36m9kod1guw4l-algo-1-og3wc |\u001b[0m SM_LOG_LEVEL=20\n",
      "\u001b[36m9kod1guw4l-algo-1-og3wc |\u001b[0m SM_FRAMEWORK_MODULE=sagemaker_tensorflow_container.training:main\n",
      "\u001b[36m9kod1guw4l-algo-1-og3wc |\u001b[0m SM_INPUT_DIR=/opt/ml/input\n",
      "\u001b[36m9kod1guw4l-algo-1-og3wc |\u001b[0m SM_INPUT_CONFIG_DIR=/opt/ml/input/config\n",
      "\u001b[36m9kod1guw4l-algo-1-og3wc |\u001b[0m SM_OUTPUT_DIR=/opt/ml/output\n",
      "\u001b[36m9kod1guw4l-algo-1-og3wc |\u001b[0m SM_NUM_CPUS=2\n",
      "\u001b[36m9kod1guw4l-algo-1-og3wc |\u001b[0m SM_NUM_GPUS=0\n",
      "\u001b[36m9kod1guw4l-algo-1-og3wc |\u001b[0m SM_MODEL_DIR=/opt/ml/model\n",
      "\u001b[36m9kod1guw4l-algo-1-og3wc |\u001b[0m SM_MODULE_DIR=s3://sagemaker-ap-southeast-1-527655063528/tensorflow-training-2022-06-10-07-13-06-681/source/sourcedir.tar.gz\n",
      "\u001b[36m9kod1guw4l-algo-1-og3wc |\u001b[0m SM_TRAINING_ENV={\"additional_framework_parameters\":{\"sagemaker_parameter_server_enabled\":true},\"channel_input_dirs\":{\"training\":\"/opt/ml/input/data/training\"},\"current_host\":\"algo-1-og3wc\",\"framework_module\":\"sagemaker_tensorflow_container.training:main\",\"hosts\":[\"algo-1-og3wc\"],\"hyperparameters\":{\"model_dir\":\"s3://sagemaker-ap-southeast-1-527655063528/tensorflow-training-2022-06-10-07-13-06-681/model\"},\"input_config_dir\":\"/opt/ml/input/config\",\"input_data_config\":{\"training\":{\"TrainingInputMode\":\"File\"}},\"input_dir\":\"/opt/ml/input\",\"is_master\":true,\"job_name\":\"tensorflow-training-2022-06-10-07-13-06-681\",\"log_level\":20,\"master_hostname\":\"algo-1-og3wc\",\"model_dir\":\"/opt/ml/model\",\"module_dir\":\"s3://sagemaker-ap-southeast-1-527655063528/tensorflow-training-2022-06-10-07-13-06-681/source/sourcedir.tar.gz\",\"module_name\":\"mnist\",\"network_interface_name\":\"eth0\",\"num_cpus\":2,\"num_gpus\":0,\"output_data_dir\":\"/opt/ml/output/data\",\"output_dir\":\"/opt/ml/output\",\"output_intermediate_dir\":\"/opt/ml/output/intermediate\",\"resource_config\":{\"current_host\":\"algo-1-og3wc\",\"hosts\":[\"algo-1-og3wc\"]},\"user_entry_point\":\"mnist.py\"}\n",
      "\u001b[36m9kod1guw4l-algo-1-og3wc |\u001b[0m SM_USER_ARGS=[\"--model_dir\",\"s3://sagemaker-ap-southeast-1-527655063528/tensorflow-training-2022-06-10-07-13-06-681/model\"]\n",
      "\u001b[36m9kod1guw4l-algo-1-og3wc |\u001b[0m SM_OUTPUT_INTERMEDIATE_DIR=/opt/ml/output/intermediate\n",
      "\u001b[36m9kod1guw4l-algo-1-og3wc |\u001b[0m SM_CHANNEL_TRAINING=/opt/ml/input/data/training\n",
      "\u001b[36m9kod1guw4l-algo-1-og3wc |\u001b[0m SM_HP_MODEL_DIR=s3://sagemaker-ap-southeast-1-527655063528/tensorflow-training-2022-06-10-07-13-06-681/model\n",
      "\u001b[36m9kod1guw4l-algo-1-og3wc |\u001b[0m PYTHONPATH=/opt/ml/code:/usr/local/bin:/usr/lib/python36.zip:/usr/lib/python3.6:/usr/lib/python3.6/lib-dynload:/usr/local/lib/python3.6/dist-packages:/usr/lib/python3/dist-packages\n",
      "\u001b[36m9kod1guw4l-algo-1-og3wc |\u001b[0m \n",
      "\u001b[36m9kod1guw4l-algo-1-og3wc |\u001b[0m Invoking script with the following command:\n",
      "\u001b[36m9kod1guw4l-algo-1-og3wc |\u001b[0m \n",
      "\u001b[36m9kod1guw4l-algo-1-og3wc |\u001b[0m /usr/bin/python3 mnist.py --model_dir s3://sagemaker-ap-southeast-1-527655063528/tensorflow-training-2022-06-10-07-13-06-681/model\n",
      "\u001b[36m9kod1guw4l-algo-1-og3wc |\u001b[0m \n",
      "\u001b[36m9kod1guw4l-algo-1-og3wc |\u001b[0m \n",
      "\u001b[36m9kod1guw4l-algo-1-og3wc |\u001b[0m WARNING:tensorflow:From /usr/local/lib/python3.6/dist-packages/tensorflow_core/__init__.py:1473: The name tf.estimator.inputs is deprecated. Please use tf.compat.v1.estimator.inputs instead.\n",
      "\u001b[36m9kod1guw4l-algo-1-og3wc |\u001b[0m \n",
      "\u001b[36m9kod1guw4l-algo-1-og3wc |\u001b[0m /opt/ml/input/data/training\n",
      "\u001b[36m9kod1guw4l-algo-1-og3wc |\u001b[0m (10000, 2)\n"
     ]
    },
    {
     "name": "stdout",
     "output_type": "stream",
     "text": [
      "\u001b[36m9kod1guw4l-algo-1-og3wc |\u001b[0m 2022-06-10 07:13:15,698 sagemaker_tensorflow_container.training WARNING  No model artifact is saved under path /opt/ml/model. Your training job will not save any model files to S3.\n",
      "\u001b[36m9kod1guw4l-algo-1-og3wc |\u001b[0m For details of how to construct your training script see:\n",
      "\u001b[36m9kod1guw4l-algo-1-og3wc |\u001b[0m https://sagemaker.readthedocs.io/en/stable/using_tf.html#adapting-your-local-tensorflow-script\n",
      "\u001b[36m9kod1guw4l-algo-1-og3wc |\u001b[0m 2022-06-10 07:13:15,699 sagemaker-containers INFO     Reporting training SUCCESS\n",
      "\u001b[36m9kod1guw4l-algo-1-og3wc exited with code 0\n",
      "\u001b[0mAborting on container exit...\n",
      "===== Job Complete =====\n"
     ]
    }
   ],
   "source": [
    "mnist_estimator.fit(s3_directory)"
   ]
  },
  {
   "cell_type": "code",
   "execution_count": null,
   "metadata": {},
   "outputs": [],
   "source": []
  },
  {
   "cell_type": "code",
   "execution_count": null,
   "metadata": {},
   "outputs": [],
   "source": []
  }
 ],
 "metadata": {
  "kernelspec": {
   "display_name": "Python (3.6) Tensorflow (1.4)",
   "language": "python",
   "name": "py36tf14"
  },
  "language_info": {
   "codemirror_mode": {
    "name": "ipython",
    "version": 3
   },
   "file_extension": ".py",
   "mimetype": "text/x-python",
   "name": "python",
   "nbconvert_exporter": "python",
   "pygments_lexer": "ipython3",
   "version": "3.6.12"
  }
 },
 "nbformat": 4,
 "nbformat_minor": 5
}
