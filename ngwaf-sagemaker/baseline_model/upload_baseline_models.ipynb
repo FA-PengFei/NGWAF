{
 "cells": [
  {
   "cell_type": "markdown",
   "metadata": {},
   "source": [
    "Use this notebook to upload the initial copy of the pretrained baseline models\n",
    "- Models should be saved as Tensorflow `SavedModel` format and zipped into a `.tar.gz`, stored in some s3 location that this sagemaker notebook instance has access to\n",
    "- Assumes that no current endpoint exists/no existing model is being deployed"
   ]
  },
  {
   "cell_type": "code",
   "execution_count": 1,
   "metadata": {},
   "outputs": [],
   "source": [
    "import os\n",
    "import tensorflow as tf\n",
    "import joblib\n",
    "\n",
    "import boto3\n",
    "from boto3_utils import *"
   ]
  },
  {
   "cell_type": "code",
   "execution_count": 3,
   "metadata": {},
   "outputs": [
    {
     "data": {
      "text/plain": [
       "'s3://ngwaf-sagemaker/base_model/kaggle_model_test_serving.tar.gz'"
      ]
     },
     "execution_count": 3,
     "metadata": {},
     "output_type": "execute_result"
    }
   ],
   "source": [
    "# Change the following names accordingly\n",
    "BASELINE_MODEL_S3_PATH = \"s3://ngwaf-sagemaker/base_model/kaggle_model_test_serving.tar.gz\"\n",
    "ENDPOINT_NAME = \"ngwaf-test-base\"\n",
    "MODEL_NAME = \"baseline-colab-11-jul-kaggle-rnn\" \n",
    "\n",
    "DEPLOYMENT_INSTANCE_COUNT = 1\n",
    "DEPLOYMENT_INSTANCE_TYPE = 'ml.c5.large'\n",
    "\n",
    "FRAMEWORK_VERSION = \"2.8\""
   ]
  },
  {
   "cell_type": "code",
   "execution_count": 7,
   "metadata": {},
   "outputs": [],
   "source": [
    "import sagemaker\n",
    "from sagemaker.predictor import Predictor\n",
    "from sagemaker.tensorflow.model import TensorFlowModel\n",
    "\n",
    "# Sagemaker session\n",
    "sess = sagemaker.Session()\n",
    "role = sagemaker.get_execution_role()"
   ]
  },
  {
   "cell_type": "code",
   "execution_count": 10,
   "metadata": {},
   "outputs": [
    {
     "data": {
      "text/plain": [
       "False"
      ]
     },
     "execution_count": 10,
     "metadata": {},
     "output_type": "execute_result"
    }
   ],
   "source": [
    "# Check if endpoint is already alive\n",
    "endpoint_exist = False\n",
    "\n",
    "endpoints = boto3.client(\"sagemaker\").list_endpoints(NameContains=ENDPOINT_NAME)\n",
    "for ep in endpoints['Endpoints']:\n",
    "    if ep['EndpointName'] == ENDPOINT_NAME:\n",
    "        endpoint_exist = True\n",
    "        break\n",
    "endpoint_exist"
   ]
  },
  {
   "cell_type": "code",
   "execution_count": 11,
   "metadata": {},
   "outputs": [
    {
     "name": "stderr",
     "output_type": "stream",
     "text": [
      "update_endpoint is a no-op in sagemaker>=2.\n",
      "See: https://sagemaker.readthedocs.io/en/stable/v2.html for details.\n",
      "Using already existing model: baseline-colab-11-jul-kaggle-rnn\n"
     ]
    },
    {
     "name": "stdout",
     "output_type": "stream",
     "text": [
      "----!"
     ]
    }
   ],
   "source": [
    "if not endpoint_exist:\n",
    "    serving_model = TensorFlowModel(\n",
    "        model_data = BASELINE_MODEL_S3_PATH,\n",
    "        role=role,\n",
    "        framework_version=FRAMEWORK_VERSION,\n",
    "        sagemaker_session=sess,\n",
    "        name=MODEL_NAME\n",
    "    )\n",
    "\n",
    "    predictor = serving_model.deploy(\n",
    "        initial_instance_count=DEPLOYMENT_INSTANCE_COUNT,\n",
    "        instance_type=DEPLOYMENT_INSTANCE_TYPE,\n",
    "        endpoint_name=ENDPOINT_NAME,\n",
    "    )"
   ]
  }
 ],
 "metadata": {
  "kernelspec": {
   "display_name": "conda_tensorflow2_p38",
   "language": "python",
   "name": "conda_tensorflow2_p38"
  },
  "language_info": {
   "codemirror_mode": {
    "name": "ipython",
    "version": 3
   },
   "file_extension": ".py",
   "mimetype": "text/x-python",
   "name": "python",
   "nbconvert_exporter": "python",
   "pygments_lexer": "ipython3",
   "version": "3.8.12"
  }
 },
 "nbformat": 4,
 "nbformat_minor": 2
}
