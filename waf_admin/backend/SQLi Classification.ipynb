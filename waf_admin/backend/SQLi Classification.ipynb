{
 "cells": [
  {
   "cell_type": "code",
   "execution_count": 1,
   "metadata": {},
   "outputs": [
    {
     "name": "stderr",
     "output_type": "stream",
     "text": [
      "2021-11-25 19:33:12.323950: W tensorflow/stream_executor/platform/default/dso_loader.cc:64] Could not load dynamic library 'libcudart.so.11.0'; dlerror: libcudart.so.11.0: cannot open shared object file: No such file or directory\n",
      "2021-11-25 19:33:12.324000: I tensorflow/stream_executor/cuda/cudart_stub.cc:29] Ignore above cudart dlerror if you do not have a GPU set up on your machine.\n"
     ]
    }
   ],
   "source": [
    "#import libraries\n",
    "import numpy as np\n",
    "from numpy import asarray\n",
    "import pandas as pd\n",
    "import tensorflow as tf\n",
    "from sklearn.model_selection import train_test_split\n",
    "from sklearn.metrics import classification_report\n",
    "from sklearn.metrics import confusion_matrix, accuracy_score, precision_score, recall_score, f1_score,roc_auc_score\n",
    "from sklearn.feature_extraction.text import CountVectorizer\n",
    "from sklearn.model_selection import GridSearchCV\n",
    "from nltk.stem import PorterStemmer\n",
    "from nltk.tokenize import sent_tokenize, word_tokenize\n",
    "from nltk.stem import WordNetLemmatizer\n",
    "from nltk.corpus import stopwords \n",
    "from nltk.tokenize import word_tokenize\n",
    "from nltk.corpus import stopwords\n",
    "stopwords = set(stopwords.words('english'))\n",
    "from sklearn.linear_model import LogisticRegression \n",
    "from sklearn.tree import DecisionTreeClassifier\n",
    "from sklearn.svm import SVC\n",
    "from sklearn.ensemble import GradientBoostingClassifier\n",
    "from sklearn.model_selection import cross_val_score\n",
    "from sklearn.model_selection import KFold\n",
    "from tensorflow.keras.models import Sequential, save_model, load_model\n",
    "from tensorflow.keras import layers\n",
    "from tensorflow.keras.preprocessing.text import Tokenizer\n",
    "from tensorflow.keras.layers import Conv1D\n",
    "from tensorflow.keras.layers import MaxPooling1D\n",
    "from tensorflow.keras.wrappers.scikit_learn import KerasClassifier\n",
    "# import gensim\n",
    "import re\n",
    "import joblib"
   ]
  },
  {
   "cell_type": "code",
   "execution_count": 2,
   "metadata": {},
   "outputs": [],
   "source": [
    "from os import listdir\n",
    "dfs=[]\n",
    "filepaths = ['../data/' + f for f in listdir('../data') if f.startswith('s') ]\n",
    "for f in filepaths:\n",
    "    df = pd.read_csv(f,encoding='utf-16')\n",
    "    dfs.append(df)\n",
    "df=pd.concat(dfs, ignore_index=True)"
   ]
  },
  {
   "cell_type": "code",
   "execution_count": 3,
   "metadata": {},
   "outputs": [
    {
     "data": {
      "text/plain": [
       "37961"
      ]
     },
     "execution_count": 3,
     "metadata": {},
     "output_type": "execute_result"
    }
   ],
   "source": [
    "len(df)"
   ]
  },
  {
   "cell_type": "code",
   "execution_count": 4,
   "metadata": {},
   "outputs": [
    {
     "data": {
      "text/html": [
       "<div>\n",
       "<style scoped>\n",
       "    .dataframe tbody tr th:only-of-type {\n",
       "        vertical-align: middle;\n",
       "    }\n",
       "\n",
       "    .dataframe tbody tr th {\n",
       "        vertical-align: top;\n",
       "    }\n",
       "\n",
       "    .dataframe thead th {\n",
       "        text-align: right;\n",
       "    }\n",
       "</style>\n",
       "<table border=\"1\" class=\"dataframe\">\n",
       "  <thead>\n",
       "    <tr style=\"text-align: right;\">\n",
       "      <th></th>\n",
       "      <th>Sentence</th>\n",
       "      <th>Label</th>\n",
       "    </tr>\n",
       "  </thead>\n",
       "  <tbody>\n",
       "    <tr>\n",
       "      <th>0</th>\n",
       "      <td>NaN</td>\n",
       "      <td>1</td>\n",
       "    </tr>\n",
       "    <tr>\n",
       "      <th>1</th>\n",
       "      <td>\" or pg_sleep ( __TIME__ ) --</td>\n",
       "      <td>1</td>\n",
       "    </tr>\n",
       "    <tr>\n",
       "      <th>2</th>\n",
       "      <td>create user name identified by pass123 tempora...</td>\n",
       "      <td>1</td>\n",
       "    </tr>\n",
       "    <tr>\n",
       "      <th>3</th>\n",
       "      <td>%29</td>\n",
       "      <td>1</td>\n",
       "    </tr>\n",
       "    <tr>\n",
       "      <th>4</th>\n",
       "      <td>' AND 1 = utl_inaddr.get_host_address  (  (  S...</td>\n",
       "      <td>1</td>\n",
       "    </tr>\n",
       "    <tr>\n",
       "      <th>5</th>\n",
       "      <td>select * from users where id = '1' or @ @1 = ...</td>\n",
       "      <td>1</td>\n",
       "    </tr>\n",
       "    <tr>\n",
       "      <th>6</th>\n",
       "      <td>select * from users where id = 1 or 1#\" (  un...</td>\n",
       "      <td>1</td>\n",
       "    </tr>\n",
       "    <tr>\n",
       "      <th>7</th>\n",
       "      <td>' select name from syscolumns where id  =   ( ...</td>\n",
       "      <td>1</td>\n",
       "    </tr>\n",
       "    <tr>\n",
       "      <th>8</th>\n",
       "      <td>select * from users where id = 1 +$+ or 1 = 1...</td>\n",
       "      <td>1</td>\n",
       "    </tr>\n",
       "    <tr>\n",
       "      <th>9</th>\n",
       "      <td>1; ( load_file ( char ( 47,101,116,99,47,112,9...</td>\n",
       "      <td>1</td>\n",
       "    </tr>\n",
       "  </tbody>\n",
       "</table>\n",
       "</div>"
      ],
      "text/plain": [
       "                                            Sentence  Label\n",
       "0                                                NaN      1\n",
       "1                      \" or pg_sleep ( __TIME__ ) --      1\n",
       "2  create user name identified by pass123 tempora...      1\n",
       "3                                                %29      1\n",
       "4  ' AND 1 = utl_inaddr.get_host_address  (  (  S...      1\n",
       "5   select * from users where id = '1' or @ @1 = ...      1\n",
       "6   select * from users where id = 1 or 1#\" (  un...      1\n",
       "7  ' select name from syscolumns where id  =   ( ...      1\n",
       "8   select * from users where id = 1 +$+ or 1 = 1...      1\n",
       "9  1; ( load_file ( char ( 47,101,116,99,47,112,9...      1"
      ]
     },
     "execution_count": 4,
     "metadata": {},
     "output_type": "execute_result"
    }
   ],
   "source": [
    "df.head(10)"
   ]
  },
  {
   "cell_type": "code",
   "execution_count": 5,
   "metadata": {},
   "outputs": [],
   "source": [
    "#adding admin, user and password samples\n",
    "password = pd.read_table('../data/10-million-password-list-top-1000000.txt')\n",
    "password.dropna(inplace =True)\n"
   ]
  },
  {
   "cell_type": "code",
   "execution_count": 6,
   "metadata": {},
   "outputs": [
    {
     "data": {
      "text/html": [
       "<div>\n",
       "<style scoped>\n",
       "    .dataframe tbody tr th:only-of-type {\n",
       "        vertical-align: middle;\n",
       "    }\n",
       "\n",
       "    .dataframe tbody tr th {\n",
       "        vertical-align: top;\n",
       "    }\n",
       "\n",
       "    .dataframe thead th {\n",
       "        text-align: right;\n",
       "    }\n",
       "</style>\n",
       "<table border=\"1\" class=\"dataframe\">\n",
       "  <thead>\n",
       "    <tr style=\"text-align: right;\">\n",
       "      <th></th>\n",
       "      <th>Sentence</th>\n",
       "      <th>Label</th>\n",
       "    </tr>\n",
       "  </thead>\n",
       "  <tbody>\n",
       "    <tr>\n",
       "      <th>0</th>\n",
       "      <td>password</td>\n",
       "      <td>0</td>\n",
       "    </tr>\n",
       "    <tr>\n",
       "      <th>73</th>\n",
       "      <td>pass</td>\n",
       "      <td>0</td>\n",
       "    </tr>\n",
       "    <tr>\n",
       "      <th>305</th>\n",
       "      <td>password1</td>\n",
       "      <td>0</td>\n",
       "    </tr>\n",
       "    <tr>\n",
       "      <th>409</th>\n",
       "      <td>passw0rd</td>\n",
       "      <td>0</td>\n",
       "    </tr>\n",
       "    <tr>\n",
       "      <th>751</th>\n",
       "      <td>passion</td>\n",
       "      <td>0</td>\n",
       "    </tr>\n",
       "  </tbody>\n",
       "</table>\n",
       "</div>"
      ],
      "text/plain": [
       "      Sentence  Label\n",
       "0     password      0\n",
       "73        pass      0\n",
       "305  password1      0\n",
       "409   passw0rd      0\n",
       "751    passion      0"
      ]
     },
     "execution_count": 6,
     "metadata": {},
     "output_type": "execute_result"
    }
   ],
   "source": [
    "to_add = password[password['123456'].str.contains('user|pass|admin|password|adminstrator')].head(500)\n",
    "to_add.rename(columns = {'123456':'Sentence'}, inplace = True)\n",
    "to_add['Label'] = 0\n",
    "to_add.head()"
   ]
  },
  {
   "cell_type": "code",
   "execution_count": 7,
   "metadata": {},
   "outputs": [],
   "source": [
    "### cleaning\n",
    "df = df[~df['Sentence'].isna()]"
   ]
  },
  {
   "cell_type": "code",
   "execution_count": 8,
   "metadata": {},
   "outputs": [
    {
     "data": {
      "text/html": [
       "<div>\n",
       "<style scoped>\n",
       "    .dataframe tbody tr th:only-of-type {\n",
       "        vertical-align: middle;\n",
       "    }\n",
       "\n",
       "    .dataframe tbody tr th {\n",
       "        vertical-align: top;\n",
       "    }\n",
       "\n",
       "    .dataframe thead th {\n",
       "        text-align: right;\n",
       "    }\n",
       "</style>\n",
       "<table border=\"1\" class=\"dataframe\">\n",
       "  <thead>\n",
       "    <tr style=\"text-align: right;\">\n",
       "      <th></th>\n",
       "      <th>Sentence</th>\n",
       "      <th>Label</th>\n",
       "    </tr>\n",
       "  </thead>\n",
       "  <tbody>\n",
       "    <tr>\n",
       "      <th>1</th>\n",
       "      <td>\" or pg_sleep ( __TIME__ ) --</td>\n",
       "      <td>1</td>\n",
       "    </tr>\n",
       "    <tr>\n",
       "      <th>2</th>\n",
       "      <td>create user name identified by pass123 tempora...</td>\n",
       "      <td>1</td>\n",
       "    </tr>\n",
       "    <tr>\n",
       "      <th>3</th>\n",
       "      <td>%29</td>\n",
       "      <td>1</td>\n",
       "    </tr>\n",
       "    <tr>\n",
       "      <th>4</th>\n",
       "      <td>' AND 1 = utl_inaddr.get_host_address  (  (  S...</td>\n",
       "      <td>1</td>\n",
       "    </tr>\n",
       "    <tr>\n",
       "      <th>5</th>\n",
       "      <td>select * from users where id = '1' or @ @1 = ...</td>\n",
       "      <td>1</td>\n",
       "    </tr>\n",
       "    <tr>\n",
       "      <th>...</th>\n",
       "      <td>...</td>\n",
       "      <td>...</td>\n",
       "    </tr>\n",
       "    <tr>\n",
       "      <th>203242</th>\n",
       "      <td>password1981</td>\n",
       "      <td>0</td>\n",
       "    </tr>\n",
       "    <tr>\n",
       "      <th>203243</th>\n",
       "      <td>password@123</td>\n",
       "      <td>0</td>\n",
       "    </tr>\n",
       "    <tr>\n",
       "      <th>203247</th>\n",
       "      <td>passWORD</td>\n",
       "      <td>0</td>\n",
       "    </tr>\n",
       "    <tr>\n",
       "      <th>203248</th>\n",
       "      <td>passwolf</td>\n",
       "      <td>0</td>\n",
       "    </tr>\n",
       "    <tr>\n",
       "      <th>203249</th>\n",
       "      <td>passwd123</td>\n",
       "      <td>0</td>\n",
       "    </tr>\n",
       "  </tbody>\n",
       "</table>\n",
       "<p>38444 rows × 2 columns</p>\n",
       "</div>"
      ],
      "text/plain": [
       "                                                 Sentence  Label\n",
       "1                           \" or pg_sleep ( __TIME__ ) --      1\n",
       "2       create user name identified by pass123 tempora...      1\n",
       "3                                                     %29      1\n",
       "4       ' AND 1 = utl_inaddr.get_host_address  (  (  S...      1\n",
       "5        select * from users where id = '1' or @ @1 = ...      1\n",
       "...                                                   ...    ...\n",
       "203242                                       password1981      0\n",
       "203243                                       password@123      0\n",
       "203247                                           passWORD      0\n",
       "203248                                           passwolf      0\n",
       "203249                                          passwd123      0\n",
       "\n",
       "[38444 rows x 2 columns]"
      ]
     },
     "execution_count": 8,
     "metadata": {},
     "output_type": "execute_result"
    }
   ],
   "source": [
    "df2= pd.concat([df, to_add])\n",
    "df2"
   ]
  },
  {
   "cell_type": "code",
   "execution_count": 9,
   "metadata": {},
   "outputs": [],
   "source": [
    "df2.to_csv('../data/training.csv')"
   ]
  },
  {
   "cell_type": "code",
   "execution_count": 10,
   "metadata": {},
   "outputs": [],
   "source": [
    "\n",
    "def clean(text):\n",
    "    pattern = re.compile(r\"\\d*([^\\d\\W]+)\\d*\") # removes only those numbers appearing with words but leaves individual numbers alone\n",
    "    \n",
    "    return pattern.sub(r\"\\1\", text)"
   ]
  },
  {
   "cell_type": "code",
   "execution_count": 11,
   "metadata": {},
   "outputs": [],
   "source": [
    "vectorizer = CountVectorizer( min_df=2, max_df=0.7, stop_words=stopwords,token_pattern ='[a-zA-Z0-9$&+,:;=?@#|<>.^*()%!-]+')\n",
    "X = vectorizer.fit_transform(df2['Sentence'].apply(lambda x:clean(x)))\n",
    "y = df2['Label']\n",
    "# X = vectorizer.fit_transform(df['words'])\n"
   ]
  },
  {
   "cell_type": "code",
   "execution_count": 12,
   "metadata": {},
   "outputs": [],
   "source": [
    "# transformed_posts=pd.DataFrame(posts)"
   ]
  },
  {
   "cell_type": "code",
   "execution_count": 13,
   "metadata": {},
   "outputs": [],
   "source": [
    "# posts"
   ]
  },
  {
   "cell_type": "code",
   "execution_count": 14,
   "metadata": {},
   "outputs": [
    {
     "data": {
      "text/plain": [
       "['!',\n",
       " '!)',\n",
       " '!<1',\n",
       " '!<1,version',\n",
       " '!<@',\n",
       " '!<@,version',\n",
       " '#',\n",
       " '#,@@version',\n",
       " '$',\n",
       " '$#']"
      ]
     },
     "execution_count": 14,
     "metadata": {},
     "output_type": "execute_result"
    }
   ],
   "source": [
    "vectorizer.get_feature_names()[:10]"
   ]
  },
  {
   "cell_type": "code",
   "execution_count": 15,
   "metadata": {},
   "outputs": [],
   "source": [
    "X_train, X_test, y_train, y_test = train_test_split(X, y, test_size=0.2, random_state=42)"
   ]
  },
  {
   "cell_type": "code",
   "execution_count": 16,
   "metadata": {},
   "outputs": [
    {
     "name": "stdout",
     "output_type": "stream",
     "text": [
      "Accuracy of logistic regression: 0.993 \n",
      "F1_score of logistic regression: 0.988 \n",
      "auc_roc of logistic regression: 0.994 \n"
     ]
    }
   ],
   "source": [
    "### base model logistic regression\n",
    "clf = LogisticRegression(random_state=0).fit(X_train, y_train)\n",
    "y_pred = clf.predict(X_test)\n",
    "print(\"Accuracy of logistic regression: %.3f \"% accuracy_score(y_pred,y_test))\n",
    "print(\"F1_score of logistic regression: %.3f \"%f1_score(y_pred,y_test))\n",
    "print(\"auc_roc of logistic regression: %.3f \"%roc_auc_score(y_pred,y_test))"
   ]
  },
  {
   "cell_type": "code",
   "execution_count": 17,
   "metadata": {},
   "outputs": [
    {
     "name": "stdout",
     "output_type": "stream",
     "text": [
      "Accuracy of SVC : 0.993 \n",
      "F1_score of SVC: 0.989 \n",
      "auc_roc of SVC: 0.995 \n"
     ]
    }
   ],
   "source": [
    "### base model logistic regression\n",
    "svc_clf = SVC(random_state=0).fit(X_train, y_train)\n",
    "y_pred = svc_clf.predict(X_test)\n",
    "print(\"Accuracy of SVC : %.3f \"% accuracy_score(y_pred,y_test))\n",
    "print(\"F1_score of SVC: %.3f \"%f1_score(y_pred,y_test))\n",
    "print(\"auc_roc of SVC: %.3f \"%roc_auc_score(y_pred,y_test))"
   ]
  },
  {
   "cell_type": "code",
   "execution_count": 18,
   "metadata": {},
   "outputs": [
    {
     "name": "stdout",
     "output_type": "stream",
     "text": [
      "Accuracy of Decision Tree Classifier : 0.997 \n",
      "F1_score of Decision Tree Classifier: 0.995 \n",
      "auc_roc of Decision Tree Classifier: 0.996 \n"
     ]
    }
   ],
   "source": [
    "dt = DecisionTreeClassifier().fit(X_train, y_train)\n",
    "y_pred = dt.predict(X_test)\n",
    "print(\"Accuracy of Decision Tree Classifier : %.3f \"% accuracy_score(y_pred,y_test))\n",
    "print(\"F1_score of Decision Tree Classifier: %.3f \"%f1_score(y_pred,y_test))\n",
    "print(\"auc_roc of Decision Tree Classifier: %.3f \"%roc_auc_score(y_pred,y_test))"
   ]
  },
  {
   "cell_type": "code",
   "execution_count": 19,
   "metadata": {},
   "outputs": [],
   "source": [
    "# Create param grid.\n",
    "\n",
    "param_grid = [\n",
    "    \n",
    "        {\n",
    "     'penalty' : ['l1', 'l2'],\n",
    "    'C' : np.logspace(-4, 4, 20),\n",
    "    'solver' : ['liblinear']}\n",
    "#     {'m' : [DecisionTreeClassifier()],\n",
    "#      'pca__n_components':list(range(2,10)),\n",
    "#     'm__max_depth' : list(range(2,10)),\n",
    "#     'm__min_samples_leaf': [5, 10, 20, 50, 100],\n",
    "#     'm__criterion': [\"gini\", \"entropy\"]\n",
    "# }\n",
    "#       {'m' : [GradientBoostingClassifier()],\n",
    "#     'm__max_depth' : list(range(2,10)),\n",
    "#       'm__n_estimators':list(range(100,500,50))}\n",
    "    \n",
    "        ]\n",
    "\n",
    "# Create grid search object\n",
    "\n",
    "clf = GridSearchCV(clf, param_grid = param_grid, cv = 5, verbose=True, n_jobs=-1)"
   ]
  },
  {
   "cell_type": "code",
   "execution_count": 20,
   "metadata": {},
   "outputs": [
    {
     "name": "stdout",
     "output_type": "stream",
     "text": [
      "Fitting 5 folds for each of 40 candidates, totalling 200 fits\n"
     ]
    },
    {
     "name": "stderr",
     "output_type": "stream",
     "text": [
      "[Parallel(n_jobs=-1)]: Using backend LokyBackend with 8 concurrent workers.\n",
      "[Parallel(n_jobs=-1)]: Done  34 tasks      | elapsed:    1.4s\n",
      "[Parallel(n_jobs=-1)]: Done 184 tasks      | elapsed:    6.4s\n",
      "[Parallel(n_jobs=-1)]: Done 200 out of 200 | elapsed:    7.0s finished\n"
     ]
    },
    {
     "data": {
      "text/plain": [
       "GridSearchCV(cv=5, estimator=LogisticRegression(random_state=0), n_jobs=-1,\n",
       "             param_grid=[{'C': array([1.00000000e-04, 2.63665090e-04, 6.95192796e-04, 1.83298071e-03,\n",
       "       4.83293024e-03, 1.27427499e-02, 3.35981829e-02, 8.85866790e-02,\n",
       "       2.33572147e-01, 6.15848211e-01, 1.62377674e+00, 4.28133240e+00,\n",
       "       1.12883789e+01, 2.97635144e+01, 7.84759970e+01, 2.06913808e+02,\n",
       "       5.45559478e+02, 1.43844989e+03, 3.79269019e+03, 1.00000000e+04]),\n",
       "                          'penalty': ['l1', 'l2'], 'solver': ['liblinear']}],\n",
       "             verbose=True)"
      ]
     },
     "execution_count": 20,
     "metadata": {},
     "output_type": "execute_result"
    }
   ],
   "source": [
    "clf.fit(X,y)"
   ]
  },
  {
   "cell_type": "code",
   "execution_count": 21,
   "metadata": {},
   "outputs": [],
   "source": [
    "model = clf.best_estimator_"
   ]
  },
  {
   "cell_type": "code",
   "execution_count": 22,
   "metadata": {},
   "outputs": [],
   "source": [
    "# save the model to disk\n",
    "filename = '../model/finalized_model.sav'\n",
    "joblib.dump(model, open(filename, 'wb'))"
   ]
  },
  {
   "cell_type": "code",
   "execution_count": 23,
   "metadata": {},
   "outputs": [],
   "source": [
    "yhat = model.predict(X_test)"
   ]
  },
  {
   "cell_type": "markdown",
   "metadata": {},
   "source": [
    "### END ###"
   ]
  },
  {
   "cell_type": "code",
   "execution_count": 24,
   "metadata": {},
   "outputs": [
    {
     "name": "stdout",
     "output_type": "stream",
     "text": [
      "Model: \"sequential\"\n",
      "_________________________________________________________________\n",
      " Layer (type)                Output Shape              Param #   \n",
      "=================================================================\n",
      " dense (Dense)               (None, 20)                287200    \n",
      "                                                                 \n",
      " dense_1 (Dense)             (None, 10)                210       \n",
      "                                                                 \n",
      " dense_2 (Dense)             (None, 1024)              11264     \n",
      "                                                                 \n",
      " batch_normalization (BatchN  (None, 1024)             4096      \n",
      " ormalization)                                                   \n",
      "                                                                 \n",
      " dropout (Dropout)           (None, 1024)              0         \n",
      "                                                                 \n",
      " dense_3 (Dense)             (None, 1)                 1025      \n",
      "                                                                 \n",
      "=================================================================\n",
      "Total params: 303,795\n",
      "Trainable params: 301,747\n",
      "Non-trainable params: 2,048\n",
      "_________________________________________________________________\n"
     ]
    },
    {
     "name": "stderr",
     "output_type": "stream",
     "text": [
      "2021-11-25 19:33:37.906067: W tensorflow/stream_executor/platform/default/dso_loader.cc:64] Could not load dynamic library 'libcuda.so.1'; dlerror: libcuda.so.1: cannot open shared object file: No such file or directory\n",
      "2021-11-25 19:33:37.906108: W tensorflow/stream_executor/cuda/cuda_driver.cc:269] failed call to cuInit: UNKNOWN ERROR (303)\n",
      "2021-11-25 19:33:37.906137: I tensorflow/stream_executor/cuda/cuda_diagnostics.cc:156] kernel driver does not appear to be running on this host (ubuntu): /proc/driver/nvidia/version does not exist\n",
      "2021-11-25 19:33:37.906402: I tensorflow/core/platform/cpu_feature_guard.cc:151] This TensorFlow binary is optimized with oneAPI Deep Neural Network Library (oneDNN) to use the following CPU instructions in performance-critical operations:  AVX2 FMA\n",
      "To enable them in other operations, rebuild TensorFlow with the appropriate compiler flags.\n"
     ]
    }
   ],
   "source": [
    "# fix random seed for reproducibility\n",
    "seed = 7\n",
    "np.random.seed(seed)\n",
    "input_dim = X.shape[1]  # Number of features\n",
    "cvscores = []\n",
    "\n",
    "model = Sequential()\n",
    "model.add(layers.Dense(20, input_dim=input_dim, activation='relu'))\n",
    "model.add(layers.Dense(10,  activation='tanh'))\n",
    "model.add(layers.Dense(1024, activation='relu'))\n",
    "\n",
    "model.add(layers.BatchNormalization())\n",
    "model.add(layers.Dropout(0.5))\n",
    "model.add(layers.Dense(1, activation='sigmoid'))\n",
    "model.compile(loss='binary_crossentropy', \n",
    "              optimizer='adam', \n",
    "              metrics=['accuracy'])\n",
    "model.summary()\n"
   ]
  },
  {
   "cell_type": "code",
   "execution_count": 25,
   "metadata": {},
   "outputs": [
    {
     "name": "stdout",
     "output_type": "stream",
     "text": [
      "WARNING:tensorflow:Keras is training/fitting/evaluating on array-like data. Keras may not be optimized for this format, so if your input data format is supported by TensorFlow I/O (https://github.com/tensorflow/io) we recommend using that to load a Dataset instead.\n",
      "Epoch 1/10\n"
     ]
    },
    {
     "name": "stderr",
     "output_type": "stream",
     "text": [
      "2021-11-25 19:33:38.876231: W tensorflow/core/framework/op_kernel.cc:1733] INVALID_ARGUMENT: TypeError: 'SparseTensor' object is not subscriptable\n",
      "Traceback (most recent call last):\n",
      "\n",
      "  File \"/home/bosen/.local/lib/python3.8/site-packages/tensorflow/python/ops/script_ops.py\", line 273, in __call__\n",
      "    return func(device, token, args)\n",
      "\n",
      "  File \"/home/bosen/.local/lib/python3.8/site-packages/tensorflow/python/ops/script_ops.py\", line 151, in __call__\n",
      "    outputs = self._call(device, args)\n",
      "\n",
      "  File \"/home/bosen/.local/lib/python3.8/site-packages/tensorflow/python/ops/script_ops.py\", line 158, in _call\n",
      "    ret = self._func(*args)\n",
      "\n",
      "  File \"/home/bosen/.local/lib/python3.8/site-packages/tensorflow/python/autograph/impl/api.py\", line 649, in wrapper\n",
      "    return func(*args, **kwargs)\n",
      "\n",
      "  File \"/home/bosen/.local/lib/python3.8/site-packages/keras/engine/data_adapter.py\", line 476, in py_method\n",
      "    return [slice_array(inp) for inp in flat_inputs]\n",
      "\n",
      "  File \"/home/bosen/.local/lib/python3.8/site-packages/keras/engine/data_adapter.py\", line 476, in <listcomp>\n",
      "    return [slice_array(inp) for inp in flat_inputs]\n",
      "\n",
      "  File \"/home/bosen/.local/lib/python3.8/site-packages/keras/engine/data_adapter.py\", line 474, in slice_array\n",
      "    return training_utils.slice_arrays(data, ind.numpy(),\n",
      "\n",
      "  File \"/home/bosen/.local/lib/python3.8/site-packages/keras/engine/training_utils.py\", line 47, in slice_arrays\n",
      "    entries = [[x[i:i + 1] for i in indices] for x in arrays]\n",
      "\n",
      "  File \"/home/bosen/.local/lib/python3.8/site-packages/keras/engine/training_utils.py\", line 47, in <listcomp>\n",
      "    entries = [[x[i:i + 1] for i in indices] for x in arrays]\n",
      "\n",
      "  File \"/home/bosen/.local/lib/python3.8/site-packages/keras/engine/training_utils.py\", line 47, in <listcomp>\n",
      "    entries = [[x[i:i + 1] for i in indices] for x in arrays]\n",
      "\n",
      "TypeError: 'SparseTensor' object is not subscriptable\n",
      "\n",
      "\n",
      "2021-11-25 19:33:38.877464: W tensorflow/core/framework/op_kernel.cc:1733] INVALID_ARGUMENT: TypeError: 'SparseTensor' object is not subscriptable\n",
      "Traceback (most recent call last):\n",
      "\n",
      "  File \"/home/bosen/.local/lib/python3.8/site-packages/tensorflow/python/ops/script_ops.py\", line 273, in __call__\n",
      "    return func(device, token, args)\n",
      "\n",
      "  File \"/home/bosen/.local/lib/python3.8/site-packages/tensorflow/python/ops/script_ops.py\", line 151, in __call__\n",
      "    outputs = self._call(device, args)\n",
      "\n",
      "  File \"/home/bosen/.local/lib/python3.8/site-packages/tensorflow/python/ops/script_ops.py\", line 158, in _call\n",
      "    ret = self._func(*args)\n",
      "\n",
      "  File \"/home/bosen/.local/lib/python3.8/site-packages/tensorflow/python/autograph/impl/api.py\", line 649, in wrapper\n",
      "    return func(*args, **kwargs)\n",
      "\n",
      "  File \"/home/bosen/.local/lib/python3.8/site-packages/keras/engine/data_adapter.py\", line 476, in py_method\n",
      "    return [slice_array(inp) for inp in flat_inputs]\n",
      "\n",
      "  File \"/home/bosen/.local/lib/python3.8/site-packages/keras/engine/data_adapter.py\", line 476, in <listcomp>\n",
      "    return [slice_array(inp) for inp in flat_inputs]\n",
      "\n",
      "  File \"/home/bosen/.local/lib/python3.8/site-packages/keras/engine/data_adapter.py\", line 474, in slice_array\n",
      "    return training_utils.slice_arrays(data, ind.numpy(),\n",
      "\n",
      "  File \"/home/bosen/.local/lib/python3.8/site-packages/keras/engine/training_utils.py\", line 47, in slice_arrays\n",
      "    entries = [[x[i:i + 1] for i in indices] for x in arrays]\n",
      "\n",
      "  File \"/home/bosen/.local/lib/python3.8/site-packages/keras/engine/training_utils.py\", line 47, in <listcomp>\n",
      "    entries = [[x[i:i + 1] for i in indices] for x in arrays]\n",
      "\n",
      "  File \"/home/bosen/.local/lib/python3.8/site-packages/keras/engine/training_utils.py\", line 47, in <listcomp>\n",
      "    entries = [[x[i:i + 1] for i in indices] for x in arrays]\n",
      "\n",
      "TypeError: 'SparseTensor' object is not subscriptable\n",
      "\n",
      "\n",
      "2021-11-25 19:33:38.877989: W tensorflow/core/framework/op_kernel.cc:1733] INVALID_ARGUMENT: TypeError: 'SparseTensor' object is not subscriptable\n",
      "Traceback (most recent call last):\n",
      "\n",
      "  File \"/home/bosen/.local/lib/python3.8/site-packages/tensorflow/python/ops/script_ops.py\", line 273, in __call__\n",
      "    return func(device, token, args)\n",
      "\n",
      "  File \"/home/bosen/.local/lib/python3.8/site-packages/tensorflow/python/ops/script_ops.py\", line 151, in __call__\n",
      "    outputs = self._call(device, args)\n",
      "\n",
      "  File \"/home/bosen/.local/lib/python3.8/site-packages/tensorflow/python/ops/script_ops.py\", line 158, in _call\n",
      "    ret = self._func(*args)\n",
      "\n",
      "  File \"/home/bosen/.local/lib/python3.8/site-packages/tensorflow/python/autograph/impl/api.py\", line 649, in wrapper\n",
      "    return func(*args, **kwargs)\n",
      "\n",
      "  File \"/home/bosen/.local/lib/python3.8/site-packages/keras/engine/data_adapter.py\", line 476, in py_method\n",
      "    return [slice_array(inp) for inp in flat_inputs]\n",
      "\n",
      "  File \"/home/bosen/.local/lib/python3.8/site-packages/keras/engine/data_adapter.py\", line 476, in <listcomp>\n",
      "    return [slice_array(inp) for inp in flat_inputs]\n",
      "\n",
      "  File \"/home/bosen/.local/lib/python3.8/site-packages/keras/engine/data_adapter.py\", line 474, in slice_array\n",
      "    return training_utils.slice_arrays(data, ind.numpy(),\n",
      "\n",
      "  File \"/home/bosen/.local/lib/python3.8/site-packages/keras/engine/training_utils.py\", line 47, in slice_arrays\n",
      "    entries = [[x[i:i + 1] for i in indices] for x in arrays]\n",
      "\n",
      "  File \"/home/bosen/.local/lib/python3.8/site-packages/keras/engine/training_utils.py\", line 47, in <listcomp>\n",
      "    entries = [[x[i:i + 1] for i in indices] for x in arrays]\n",
      "\n",
      "  File \"/home/bosen/.local/lib/python3.8/site-packages/keras/engine/training_utils.py\", line 47, in <listcomp>\n",
      "    entries = [[x[i:i + 1] for i in indices] for x in arrays]\n",
      "\n",
      "TypeError: 'SparseTensor' object is not subscriptable\n",
      "\n",
      "\n",
      "2021-11-25 19:33:38.878570: W tensorflow/core/framework/op_kernel.cc:1733] INVALID_ARGUMENT: TypeError: 'SparseTensor' object is not subscriptable\n",
      "Traceback (most recent call last):\n",
      "\n",
      "  File \"/home/bosen/.local/lib/python3.8/site-packages/tensorflow/python/ops/script_ops.py\", line 273, in __call__\n",
      "    return func(device, token, args)\n",
      "\n",
      "  File \"/home/bosen/.local/lib/python3.8/site-packages/tensorflow/python/ops/script_ops.py\", line 151, in __call__\n",
      "    outputs = self._call(device, args)\n",
      "\n",
      "  File \"/home/bosen/.local/lib/python3.8/site-packages/tensorflow/python/ops/script_ops.py\", line 158, in _call\n",
      "    ret = self._func(*args)\n",
      "\n",
      "  File \"/home/bosen/.local/lib/python3.8/site-packages/tensorflow/python/autograph/impl/api.py\", line 649, in wrapper\n",
      "    return func(*args, **kwargs)\n",
      "\n",
      "  File \"/home/bosen/.local/lib/python3.8/site-packages/keras/engine/data_adapter.py\", line 476, in py_method\n",
      "    return [slice_array(inp) for inp in flat_inputs]\n",
      "\n",
      "  File \"/home/bosen/.local/lib/python3.8/site-packages/keras/engine/data_adapter.py\", line 476, in <listcomp>\n",
      "    return [slice_array(inp) for inp in flat_inputs]\n",
      "\n",
      "  File \"/home/bosen/.local/lib/python3.8/site-packages/keras/engine/data_adapter.py\", line 474, in slice_array\n",
      "    return training_utils.slice_arrays(data, ind.numpy(),\n",
      "\n",
      "  File \"/home/bosen/.local/lib/python3.8/site-packages/keras/engine/training_utils.py\", line 47, in slice_arrays\n",
      "    entries = [[x[i:i + 1] for i in indices] for x in arrays]\n",
      "\n",
      "  File \"/home/bosen/.local/lib/python3.8/site-packages/keras/engine/training_utils.py\", line 47, in <listcomp>\n",
      "    entries = [[x[i:i + 1] for i in indices] for x in arrays]\n",
      "\n",
      "  File \"/home/bosen/.local/lib/python3.8/site-packages/keras/engine/training_utils.py\", line 47, in <listcomp>\n",
      "    entries = [[x[i:i + 1] for i in indices] for x in arrays]\n",
      "\n",
      "TypeError: 'SparseTensor' object is not subscriptable\n",
      "\n",
      "\n",
      "2021-11-25 19:33:38.878887: W tensorflow/core/framework/op_kernel.cc:1733] INVALID_ARGUMENT: TypeError: 'SparseTensor' object is not subscriptable\n",
      "Traceback (most recent call last):\n",
      "\n",
      "  File \"/home/bosen/.local/lib/python3.8/site-packages/tensorflow/python/ops/script_ops.py\", line 273, in __call__\n",
      "    return func(device, token, args)\n",
      "\n",
      "  File \"/home/bosen/.local/lib/python3.8/site-packages/tensorflow/python/ops/script_ops.py\", line 151, in __call__\n",
      "    outputs = self._call(device, args)\n",
      "\n",
      "  File \"/home/bosen/.local/lib/python3.8/site-packages/tensorflow/python/ops/script_ops.py\", line 158, in _call\n",
      "    ret = self._func(*args)\n",
      "\n",
      "  File \"/home/bosen/.local/lib/python3.8/site-packages/tensorflow/python/autograph/impl/api.py\", line 649, in wrapper\n",
      "    return func(*args, **kwargs)\n",
      "\n",
      "  File \"/home/bosen/.local/lib/python3.8/site-packages/keras/engine/data_adapter.py\", line 476, in py_method\n",
      "    return [slice_array(inp) for inp in flat_inputs]\n",
      "\n",
      "  File \"/home/bosen/.local/lib/python3.8/site-packages/keras/engine/data_adapter.py\", line 476, in <listcomp>\n",
      "    return [slice_array(inp) for inp in flat_inputs]\n",
      "\n",
      "  File \"/home/bosen/.local/lib/python3.8/site-packages/keras/engine/data_adapter.py\", line 474, in slice_array\n",
      "    return training_utils.slice_arrays(data, ind.numpy(),\n",
      "\n",
      "  File \"/home/bosen/.local/lib/python3.8/site-packages/keras/engine/training_utils.py\", line 47, in slice_arrays\n",
      "    entries = [[x[i:i + 1] for i in indices] for x in arrays]\n",
      "\n",
      "  File \"/home/bosen/.local/lib/python3.8/site-packages/keras/engine/training_utils.py\", line 47, in <listcomp>\n",
      "    entries = [[x[i:i + 1] for i in indices] for x in arrays]\n",
      "\n",
      "  File \"/home/bosen/.local/lib/python3.8/site-packages/keras/engine/training_utils.py\", line 47, in <listcomp>\n",
      "    entries = [[x[i:i + 1] for i in indices] for x in arrays]\n",
      "\n",
      "TypeError: 'SparseTensor' object is not subscriptable\n",
      "\n",
      "\n",
      "2021-11-25 19:33:38.879360: W tensorflow/core/framework/op_kernel.cc:1733] INVALID_ARGUMENT: TypeError: 'SparseTensor' object is not subscriptable\n",
      "Traceback (most recent call last):\n",
      "\n",
      "  File \"/home/bosen/.local/lib/python3.8/site-packages/tensorflow/python/ops/script_ops.py\", line 273, in __call__\n",
      "    return func(device, token, args)\n",
      "\n",
      "  File \"/home/bosen/.local/lib/python3.8/site-packages/tensorflow/python/ops/script_ops.py\", line 151, in __call__\n",
      "    outputs = self._call(device, args)\n",
      "\n",
      "  File \"/home/bosen/.local/lib/python3.8/site-packages/tensorflow/python/ops/script_ops.py\", line 158, in _call\n",
      "    ret = self._func(*args)\n",
      "\n",
      "  File \"/home/bosen/.local/lib/python3.8/site-packages/tensorflow/python/autograph/impl/api.py\", line 649, in wrapper\n",
      "    return func(*args, **kwargs)\n",
      "\n",
      "  File \"/home/bosen/.local/lib/python3.8/site-packages/keras/engine/data_adapter.py\", line 476, in py_method\n",
      "    return [slice_array(inp) for inp in flat_inputs]\n",
      "\n",
      "  File \"/home/bosen/.local/lib/python3.8/site-packages/keras/engine/data_adapter.py\", line 476, in <listcomp>\n",
      "    return [slice_array(inp) for inp in flat_inputs]\n",
      "\n",
      "  File \"/home/bosen/.local/lib/python3.8/site-packages/keras/engine/data_adapter.py\", line 474, in slice_array\n",
      "    return training_utils.slice_arrays(data, ind.numpy(),\n",
      "\n",
      "  File \"/home/bosen/.local/lib/python3.8/site-packages/keras/engine/training_utils.py\", line 47, in slice_arrays\n",
      "    entries = [[x[i:i + 1] for i in indices] for x in arrays]\n",
      "\n",
      "  File \"/home/bosen/.local/lib/python3.8/site-packages/keras/engine/training_utils.py\", line 47, in <listcomp>\n",
      "    entries = [[x[i:i + 1] for i in indices] for x in arrays]\n",
      "\n",
      "  File \"/home/bosen/.local/lib/python3.8/site-packages/keras/engine/training_utils.py\", line 47, in <listcomp>\n",
      "    entries = [[x[i:i + 1] for i in indices] for x in arrays]\n",
      "\n",
      "TypeError: 'SparseTensor' object is not subscriptable\n",
      "\n",
      "\n",
      "2021-11-25 19:33:38.880618: W tensorflow/core/framework/op_kernel.cc:1733] INVALID_ARGUMENT: TypeError: 'SparseTensor' object is not subscriptable\n",
      "Traceback (most recent call last):\n",
      "\n",
      "  File \"/home/bosen/.local/lib/python3.8/site-packages/tensorflow/python/ops/script_ops.py\", line 273, in __call__\n",
      "    return func(device, token, args)\n",
      "\n",
      "  File \"/home/bosen/.local/lib/python3.8/site-packages/tensorflow/python/ops/script_ops.py\", line 151, in __call__\n",
      "    outputs = self._call(device, args)\n",
      "\n",
      "  File \"/home/bosen/.local/lib/python3.8/site-packages/tensorflow/python/ops/script_ops.py\", line 158, in _call\n",
      "    ret = self._func(*args)\n",
      "\n",
      "  File \"/home/bosen/.local/lib/python3.8/site-packages/tensorflow/python/autograph/impl/api.py\", line 649, in wrapper\n",
      "    return func(*args, **kwargs)\n",
      "\n",
      "  File \"/home/bosen/.local/lib/python3.8/site-packages/keras/engine/data_adapter.py\", line 476, in py_method\n",
      "    return [slice_array(inp) for inp in flat_inputs]\n",
      "\n",
      "  File \"/home/bosen/.local/lib/python3.8/site-packages/keras/engine/data_adapter.py\", line 476, in <listcomp>\n",
      "    return [slice_array(inp) for inp in flat_inputs]\n",
      "\n",
      "  File \"/home/bosen/.local/lib/python3.8/site-packages/keras/engine/data_adapter.py\", line 474, in slice_array\n",
      "    return training_utils.slice_arrays(data, ind.numpy(),\n",
      "\n",
      "  File \"/home/bosen/.local/lib/python3.8/site-packages/keras/engine/training_utils.py\", line 47, in slice_arrays\n",
      "    entries = [[x[i:i + 1] for i in indices] for x in arrays]\n",
      "\n",
      "  File \"/home/bosen/.local/lib/python3.8/site-packages/keras/engine/training_utils.py\", line 47, in <listcomp>\n",
      "    entries = [[x[i:i + 1] for i in indices] for x in arrays]\n",
      "\n",
      "  File \"/home/bosen/.local/lib/python3.8/site-packages/keras/engine/training_utils.py\", line 47, in <listcomp>\n",
      "    entries = [[x[i:i + 1] for i in indices] for x in arrays]\n",
      "\n",
      "TypeError: 'SparseTensor' object is not subscriptable\n",
      "\n",
      "\n",
      "2021-11-25 19:33:38.893189: W tensorflow/core/framework/op_kernel.cc:1733] INVALID_ARGUMENT: TypeError: 'SparseTensor' object is not subscriptable\n",
      "Traceback (most recent call last):\n",
      "\n",
      "  File \"/home/bosen/.local/lib/python3.8/site-packages/tensorflow/python/ops/script_ops.py\", line 273, in __call__\n",
      "    return func(device, token, args)\n",
      "\n",
      "  File \"/home/bosen/.local/lib/python3.8/site-packages/tensorflow/python/ops/script_ops.py\", line 151, in __call__\n",
      "    outputs = self._call(device, args)\n",
      "\n",
      "  File \"/home/bosen/.local/lib/python3.8/site-packages/tensorflow/python/ops/script_ops.py\", line 158, in _call\n",
      "    ret = self._func(*args)\n",
      "\n",
      "  File \"/home/bosen/.local/lib/python3.8/site-packages/tensorflow/python/autograph/impl/api.py\", line 649, in wrapper\n",
      "    return func(*args, **kwargs)\n",
      "\n",
      "  File \"/home/bosen/.local/lib/python3.8/site-packages/keras/engine/data_adapter.py\", line 476, in py_method\n",
      "    return [slice_array(inp) for inp in flat_inputs]\n",
      "\n",
      "  File \"/home/bosen/.local/lib/python3.8/site-packages/keras/engine/data_adapter.py\", line 476, in <listcomp>\n",
      "    return [slice_array(inp) for inp in flat_inputs]\n",
      "\n",
      "  File \"/home/bosen/.local/lib/python3.8/site-packages/keras/engine/data_adapter.py\", line 474, in slice_array\n",
      "    return training_utils.slice_arrays(data, ind.numpy(),\n",
      "\n",
      "  File \"/home/bosen/.local/lib/python3.8/site-packages/keras/engine/training_utils.py\", line 47, in slice_arrays\n",
      "    entries = [[x[i:i + 1] for i in indices] for x in arrays]\n",
      "\n",
      "  File \"/home/bosen/.local/lib/python3.8/site-packages/keras/engine/training_utils.py\", line 47, in <listcomp>\n",
      "    entries = [[x[i:i + 1] for i in indices] for x in arrays]\n",
      "\n",
      "  File \"/home/bosen/.local/lib/python3.8/site-packages/keras/engine/training_utils.py\", line 47, in <listcomp>\n",
      "    entries = [[x[i:i + 1] for i in indices] for x in arrays]\n",
      "\n",
      "TypeError: 'SparseTensor' object is not subscriptable\n",
      "\n",
      "\n",
      "2021-11-25 19:33:38.900271: W tensorflow/core/framework/op_kernel.cc:1733] INVALID_ARGUMENT: TypeError: 'SparseTensor' object is not subscriptable\n",
      "Traceback (most recent call last):\n",
      "\n",
      "  File \"/home/bosen/.local/lib/python3.8/site-packages/tensorflow/python/ops/script_ops.py\", line 273, in __call__\n",
      "    return func(device, token, args)\n",
      "\n",
      "  File \"/home/bosen/.local/lib/python3.8/site-packages/tensorflow/python/ops/script_ops.py\", line 151, in __call__\n",
      "    outputs = self._call(device, args)\n",
      "\n",
      "  File \"/home/bosen/.local/lib/python3.8/site-packages/tensorflow/python/ops/script_ops.py\", line 158, in _call\n",
      "    ret = self._func(*args)\n",
      "\n",
      "  File \"/home/bosen/.local/lib/python3.8/site-packages/tensorflow/python/autograph/impl/api.py\", line 649, in wrapper\n",
      "    return func(*args, **kwargs)\n",
      "\n",
      "  File \"/home/bosen/.local/lib/python3.8/site-packages/keras/engine/data_adapter.py\", line 476, in py_method\n",
      "    return [slice_array(inp) for inp in flat_inputs]\n",
      "\n",
      "  File \"/home/bosen/.local/lib/python3.8/site-packages/keras/engine/data_adapter.py\", line 476, in <listcomp>\n",
      "    return [slice_array(inp) for inp in flat_inputs]\n",
      "\n",
      "  File \"/home/bosen/.local/lib/python3.8/site-packages/keras/engine/data_adapter.py\", line 474, in slice_array\n",
      "    return training_utils.slice_arrays(data, ind.numpy(),\n",
      "\n",
      "  File \"/home/bosen/.local/lib/python3.8/site-packages/keras/engine/training_utils.py\", line 47, in slice_arrays\n",
      "    entries = [[x[i:i + 1] for i in indices] for x in arrays]\n",
      "\n",
      "  File \"/home/bosen/.local/lib/python3.8/site-packages/keras/engine/training_utils.py\", line 47, in <listcomp>\n",
      "    entries = [[x[i:i + 1] for i in indices] for x in arrays]\n",
      "\n",
      "  File \"/home/bosen/.local/lib/python3.8/site-packages/keras/engine/training_utils.py\", line 47, in <listcomp>\n",
      "    entries = [[x[i:i + 1] for i in indices] for x in arrays]\n",
      "\n",
      "TypeError: 'SparseTensor' object is not subscriptable\n",
      "\n",
      "\n"
     ]
    },
    {
     "ename": "InvalidArgumentError",
     "evalue": " TypeError: 'SparseTensor' object is not subscriptable\nTraceback (most recent call last):\n\n  File \"/home/bosen/.local/lib/python3.8/site-packages/tensorflow/python/ops/script_ops.py\", line 273, in __call__\n    return func(device, token, args)\n\n  File \"/home/bosen/.local/lib/python3.8/site-packages/tensorflow/python/ops/script_ops.py\", line 151, in __call__\n    outputs = self._call(device, args)\n\n  File \"/home/bosen/.local/lib/python3.8/site-packages/tensorflow/python/ops/script_ops.py\", line 158, in _call\n    ret = self._func(*args)\n\n  File \"/home/bosen/.local/lib/python3.8/site-packages/tensorflow/python/autograph/impl/api.py\", line 649, in wrapper\n    return func(*args, **kwargs)\n\n  File \"/home/bosen/.local/lib/python3.8/site-packages/keras/engine/data_adapter.py\", line 476, in py_method\n    return [slice_array(inp) for inp in flat_inputs]\n\n  File \"/home/bosen/.local/lib/python3.8/site-packages/keras/engine/data_adapter.py\", line 476, in <listcomp>\n    return [slice_array(inp) for inp in flat_inputs]\n\n  File \"/home/bosen/.local/lib/python3.8/site-packages/keras/engine/data_adapter.py\", line 474, in slice_array\n    return training_utils.slice_arrays(data, ind.numpy(),\n\n  File \"/home/bosen/.local/lib/python3.8/site-packages/keras/engine/training_utils.py\", line 47, in slice_arrays\n    entries = [[x[i:i + 1] for i in indices] for x in arrays]\n\n  File \"/home/bosen/.local/lib/python3.8/site-packages/keras/engine/training_utils.py\", line 47, in <listcomp>\n    entries = [[x[i:i + 1] for i in indices] for x in arrays]\n\n  File \"/home/bosen/.local/lib/python3.8/site-packages/keras/engine/training_utils.py\", line 47, in <listcomp>\n    entries = [[x[i:i + 1] for i in indices] for x in arrays]\n\nTypeError: 'SparseTensor' object is not subscriptable\n\n\n\t [[{{node EagerPyFunc}}]]\n\t [[IteratorGetNext]] [Op:__inference_train_function_1164]",
     "output_type": "error",
     "traceback": [
      "\u001b[0;31m---------------------------------------------------------------------------\u001b[0m",
      "\u001b[0;31mInvalidArgumentError\u001b[0m                      Traceback (most recent call last)",
      "\u001b[0;32m/tmp/ipykernel_41961/820454984.py\u001b[0m in \u001b[0;36m<module>\u001b[0;34m\u001b[0m\n\u001b[0;32m----> 1\u001b[0;31m classifier_nn = model.fit(X_train,y_train,\n\u001b[0m\u001b[1;32m      2\u001b[0m                     \u001b[0mepochs\u001b[0m\u001b[0;34m=\u001b[0m\u001b[0;36m10\u001b[0m\u001b[0;34m,\u001b[0m\u001b[0;34m\u001b[0m\u001b[0;34m\u001b[0m\u001b[0m\n\u001b[1;32m      3\u001b[0m                     \u001b[0mverbose\u001b[0m\u001b[0;34m=\u001b[0m\u001b[0;32mTrue\u001b[0m\u001b[0;34m,\u001b[0m\u001b[0;34m\u001b[0m\u001b[0;34m\u001b[0m\u001b[0m\n\u001b[1;32m      4\u001b[0m                     \u001b[0mvalidation_data\u001b[0m\u001b[0;34m=\u001b[0m\u001b[0;34m(\u001b[0m\u001b[0mX_test\u001b[0m\u001b[0;34m,\u001b[0m \u001b[0my_test\u001b[0m\u001b[0;34m)\u001b[0m\u001b[0;34m,\u001b[0m\u001b[0;34m\u001b[0m\u001b[0;34m\u001b[0m\u001b[0m\n\u001b[1;32m      5\u001b[0m                     batch_size=15)\n",
      "\u001b[0;32m~/.local/lib/python3.8/site-packages/keras/utils/traceback_utils.py\u001b[0m in \u001b[0;36merror_handler\u001b[0;34m(*args, **kwargs)\u001b[0m\n\u001b[1;32m     65\u001b[0m     \u001b[0;32mexcept\u001b[0m \u001b[0mException\u001b[0m \u001b[0;32mas\u001b[0m \u001b[0me\u001b[0m\u001b[0;34m:\u001b[0m  \u001b[0;31m# pylint: disable=broad-except\u001b[0m\u001b[0;34m\u001b[0m\u001b[0;34m\u001b[0m\u001b[0m\n\u001b[1;32m     66\u001b[0m       \u001b[0mfiltered_tb\u001b[0m \u001b[0;34m=\u001b[0m \u001b[0m_process_traceback_frames\u001b[0m\u001b[0;34m(\u001b[0m\u001b[0me\u001b[0m\u001b[0;34m.\u001b[0m\u001b[0m__traceback__\u001b[0m\u001b[0;34m)\u001b[0m\u001b[0;34m\u001b[0m\u001b[0;34m\u001b[0m\u001b[0m\n\u001b[0;32m---> 67\u001b[0;31m       \u001b[0;32mraise\u001b[0m \u001b[0me\u001b[0m\u001b[0;34m.\u001b[0m\u001b[0mwith_traceback\u001b[0m\u001b[0;34m(\u001b[0m\u001b[0mfiltered_tb\u001b[0m\u001b[0;34m)\u001b[0m \u001b[0;32mfrom\u001b[0m \u001b[0;32mNone\u001b[0m\u001b[0;34m\u001b[0m\u001b[0;34m\u001b[0m\u001b[0m\n\u001b[0m\u001b[1;32m     68\u001b[0m     \u001b[0;32mfinally\u001b[0m\u001b[0;34m:\u001b[0m\u001b[0;34m\u001b[0m\u001b[0;34m\u001b[0m\u001b[0m\n\u001b[1;32m     69\u001b[0m       \u001b[0;32mdel\u001b[0m \u001b[0mfiltered_tb\u001b[0m\u001b[0;34m\u001b[0m\u001b[0;34m\u001b[0m\u001b[0m\n",
      "\u001b[0;32m~/.local/lib/python3.8/site-packages/tensorflow/python/eager/execute.py\u001b[0m in \u001b[0;36mquick_execute\u001b[0;34m(op_name, num_outputs, inputs, attrs, ctx, name)\u001b[0m\n\u001b[1;32m     56\u001b[0m   \u001b[0;32mtry\u001b[0m\u001b[0;34m:\u001b[0m\u001b[0;34m\u001b[0m\u001b[0;34m\u001b[0m\u001b[0m\n\u001b[1;32m     57\u001b[0m     \u001b[0mctx\u001b[0m\u001b[0;34m.\u001b[0m\u001b[0mensure_initialized\u001b[0m\u001b[0;34m(\u001b[0m\u001b[0;34m)\u001b[0m\u001b[0;34m\u001b[0m\u001b[0;34m\u001b[0m\u001b[0m\n\u001b[0;32m---> 58\u001b[0;31m     tensors = pywrap_tfe.TFE_Py_Execute(ctx._handle, device_name, op_name,\n\u001b[0m\u001b[1;32m     59\u001b[0m                                         inputs, attrs, num_outputs)\n\u001b[1;32m     60\u001b[0m   \u001b[0;32mexcept\u001b[0m \u001b[0mcore\u001b[0m\u001b[0;34m.\u001b[0m\u001b[0m_NotOkStatusException\u001b[0m \u001b[0;32mas\u001b[0m \u001b[0me\u001b[0m\u001b[0;34m:\u001b[0m\u001b[0;34m\u001b[0m\u001b[0;34m\u001b[0m\u001b[0m\n",
      "\u001b[0;31mInvalidArgumentError\u001b[0m:  TypeError: 'SparseTensor' object is not subscriptable\nTraceback (most recent call last):\n\n  File \"/home/bosen/.local/lib/python3.8/site-packages/tensorflow/python/ops/script_ops.py\", line 273, in __call__\n    return func(device, token, args)\n\n  File \"/home/bosen/.local/lib/python3.8/site-packages/tensorflow/python/ops/script_ops.py\", line 151, in __call__\n    outputs = self._call(device, args)\n\n  File \"/home/bosen/.local/lib/python3.8/site-packages/tensorflow/python/ops/script_ops.py\", line 158, in _call\n    ret = self._func(*args)\n\n  File \"/home/bosen/.local/lib/python3.8/site-packages/tensorflow/python/autograph/impl/api.py\", line 649, in wrapper\n    return func(*args, **kwargs)\n\n  File \"/home/bosen/.local/lib/python3.8/site-packages/keras/engine/data_adapter.py\", line 476, in py_method\n    return [slice_array(inp) for inp in flat_inputs]\n\n  File \"/home/bosen/.local/lib/python3.8/site-packages/keras/engine/data_adapter.py\", line 476, in <listcomp>\n    return [slice_array(inp) for inp in flat_inputs]\n\n  File \"/home/bosen/.local/lib/python3.8/site-packages/keras/engine/data_adapter.py\", line 474, in slice_array\n    return training_utils.slice_arrays(data, ind.numpy(),\n\n  File \"/home/bosen/.local/lib/python3.8/site-packages/keras/engine/training_utils.py\", line 47, in slice_arrays\n    entries = [[x[i:i + 1] for i in indices] for x in arrays]\n\n  File \"/home/bosen/.local/lib/python3.8/site-packages/keras/engine/training_utils.py\", line 47, in <listcomp>\n    entries = [[x[i:i + 1] for i in indices] for x in arrays]\n\n  File \"/home/bosen/.local/lib/python3.8/site-packages/keras/engine/training_utils.py\", line 47, in <listcomp>\n    entries = [[x[i:i + 1] for i in indices] for x in arrays]\n\nTypeError: 'SparseTensor' object is not subscriptable\n\n\n\t [[{{node EagerPyFunc}}]]\n\t [[IteratorGetNext]] [Op:__inference_train_function_1164]"
     ]
    }
   ],
   "source": [
    "classifier_nn = model.fit(X_train,y_train,\n",
    "                    epochs=10,\n",
    "                    verbose=True,\n",
    "                    validation_data=(X_test, y_test),\n",
    "                    batch_size=15)"
   ]
  },
  {
   "cell_type": "code",
   "execution_count": null,
   "metadata": {},
   "outputs": [],
   "source": [
    "# Save the model\n",
    "filepath = './saved_model'\n",
    "save_model(model, filepath)"
   ]
  },
  {
   "cell_type": "code",
   "execution_count": null,
   "metadata": {},
   "outputs": [],
   "source": [
    "test_model = load_model(filepath, compile=True)\n",
    "yhat = test_model.predict(X_test)"
   ]
  },
  {
   "cell_type": "code",
   "execution_count": null,
   "metadata": {},
   "outputs": [],
   "source": [
    "print(\"Accuracy of Neural network: %.3f \"%accuracy_score(np.rint(yhat),y_test))\n",
    "print(\"F1_score of Neural network: %.3f \"%f1_score(np.rint(yhat),y_test))\n",
    "print(\"auc_roc of Neural network: %.3f \"%roc_auc_score(np.rint(yhat),y_test))"
   ]
  },
  {
   "cell_type": "code",
   "execution_count": null,
   "metadata": {},
   "outputs": [],
   "source": [
    "test = pd.read_csv('../data/Malicious_data.csv')\n",
    "test_cv = vectorizer.transform(test.Payload[test['Classification']=='SQLI'])\n",
    "pred= model.predict(test_cv)\n",
    "np.rint(pred)"
   ]
  },
  {
   "cell_type": "code",
   "execution_count": null,
   "metadata": {},
   "outputs": [],
   "source": [
    "yhat = test_model.predict(X_test)"
   ]
  },
  {
   "cell_type": "code",
   "execution_count": null,
   "metadata": {},
   "outputs": [],
   "source": [
    "\n",
    "print(\"F1_score of neural network: %.3f \"%f1_score(yhat,y_test))"
   ]
  },
  {
   "cell_type": "code",
   "execution_count": null,
   "metadata": {},
   "outputs": [],
   "source": [
    "df[df['Sentence'].str.contains('Password')]"
   ]
  },
  {
   "cell_type": "code",
   "execution_count": null,
   "metadata": {},
   "outputs": [],
   "source": [
    "import gensim.downloader\n",
    "# Show all available models in gensim-data\n",
    "print(list(gensim.downloader.info()['models'].keys()))"
   ]
  },
  {
   "cell_type": "code",
   "execution_count": null,
   "metadata": {},
   "outputs": [],
   "source": [
    "glove_vectors = gensim.downloader.load('glove-wiki-gigaword-50')"
   ]
  },
  {
   "cell_type": "code",
   "execution_count": null,
   "metadata": {},
   "outputs": [],
   "source": [
    "glove_vectors.most_similar('username')"
   ]
  }
 ],
 "metadata": {
  "kernelspec": {
   "display_name": "Python 3",
   "language": "python",
   "name": "python3"
  },
  "language_info": {
   "codemirror_mode": {
    "name": "ipython",
    "version": 3
   },
   "file_extension": ".py",
   "mimetype": "text/x-python",
   "name": "python",
   "nbconvert_exporter": "python",
   "pygments_lexer": "ipython3",
   "version": "3.7.4"
  }
 },
 "nbformat": 4,
 "nbformat_minor": 5
}
